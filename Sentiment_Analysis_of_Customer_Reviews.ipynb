{
  "cells": [
    {
      "cell_type": "markdown",
      "source": [
        "# Imports"
      ],
      "metadata": {
        "id": "uXWX4C3ddvnv"
      }
    },
    {
      "cell_type": "code",
      "execution_count": null,
      "metadata": {
        "colab": {
          "base_uri": "https://localhost:8080/"
        },
        "id": "zYNKuqhm9zE_",
        "outputId": "de26ad0d-a4a5-4c96-e129-9cba35174d7f"
      },
      "outputs": [
        {
          "output_type": "stream",
          "name": "stdout",
          "text": [
            "Mounted at /content/drive/\n"
          ]
        }
      ],
      "source": [
        "from google.colab import drive\n",
        "drive.mount('/content/drive/', force_remount = False)"
      ]
    },
    {
      "cell_type": "code",
      "execution_count": null,
      "metadata": {
        "id": "6RG5AKmRAlna"
      },
      "outputs": [],
      "source": [
        "import pandas as pd\n",
        "import numpy as np\n",
        "from sklearn.model_selection import train_test_split\n",
        "from sklearn.metrics import confusion_matrix\n",
        "import seaborn as sns\n",
        "import matplotlib.pyplot as plt"
      ]
    },
    {
      "cell_type": "code",
      "execution_count": null,
      "metadata": {
        "id": "DcpwCX7nxil4"
      },
      "outputs": [],
      "source": [
        "pd.set_option(\"display.max_colwidth\", None)\n",
        "\n",
        "import warnings\n",
        "warnings.filterwarnings(\"ignore\")\n",
        "# warnings.filterwarnings(\"ignore\", category=UndefinedMetricWarning)"
      ]
    },
    {
      "cell_type": "markdown",
      "metadata": {
        "id": "Useve8PRDE-y"
      },
      "source": [
        "# Loading Dataset\n",
        "### Performing preprocessing by splitting into training, test, and validation sets"
      ]
    },
    {
      "cell_type": "code",
      "execution_count": null,
      "metadata": {
        "colab": {
          "base_uri": "https://localhost:8080/"
        },
        "id": "X27RNl3A_0Sm",
        "outputId": "70d81dc7-0d77-49ad-a05d-6727e4856c72"
      },
      "outputs": [
        {
          "output_type": "stream",
          "name": "stdout",
          "text": [
            "Index(['Unnamed: 0', 'Clothing ID', 'Age', 'Title', 'Review Text', 'Rating',\n",
            "       'Recommended IND', 'Positive Feedback Count', 'Division Name',\n",
            "       'Department Name', 'Class Name'],\n",
            "      dtype='object')\n"
          ]
        }
      ],
      "source": [
        "# https://www.kaggle.com/datasets/nicapotato/womens-ecommerce-clothing-reviews?select=Womens+Clothing+E-Commerce+Reviews.csv\n",
        "\n",
        "dataset = 'drive/MyDrive/Colab Notebooks/Womens Clothing E-Commerce Reviews.csv'\n",
        "\n",
        "df = pd.read_csv(dataset)\n",
        "print(df.columns)"
      ]
    },
    {
      "cell_type": "code",
      "source": [
        "len(df)"
      ],
      "metadata": {
        "colab": {
          "base_uri": "https://localhost:8080/"
        },
        "id": "tI2dceXZftNA",
        "outputId": "669bea81-88a6-45b6-c086-179800563028"
      },
      "execution_count": null,
      "outputs": [
        {
          "output_type": "execute_result",
          "data": {
            "text/plain": [
              "23486"
            ]
          },
          "metadata": {},
          "execution_count": 5
        }
      ]
    },
    {
      "cell_type": "code",
      "execution_count": null,
      "metadata": {
        "id": "3OYT3fM_H9n3"
      },
      "outputs": [],
      "source": [
        "# df[df['Rating'] == 2][['Review Text', 'Rating']].head()\n",
        "# pd.DataFrame(df[df['Rating'] == 3][['Rating', 'Review Text']]).head()"
      ]
    },
    {
      "cell_type": "code",
      "execution_count": null,
      "metadata": {
        "colab": {
          "base_uri": "https://localhost:8080/"
        },
        "id": "x6ZGDrHi3gnc",
        "outputId": "2756dc2c-ee10-470b-b079-bd5e903ca63f"
      },
      "outputs": [
        {
          "output_type": "execute_result",
          "data": {
            "text/plain": [
              "5    13131\n",
              "4     5077\n",
              "3     2871\n",
              "2     1565\n",
              "1      842\n",
              "Name: Rating, dtype: int64"
            ]
          },
          "metadata": {},
          "execution_count": 7
        }
      ],
      "source": [
        "df['Rating'].value_counts()"
      ]
    },
    {
      "cell_type": "code",
      "execution_count": null,
      "metadata": {
        "id": "NhTrF4k0dikq"
      },
      "outputs": [],
      "source": [
        "# Drop rows having nan values from 'Review Text' & 'Rating ' columns\n",
        "df = df.dropna(axis=0, subset=['Review Text'])\n",
        "df = df.dropna(axis=0, subset=['Rating'])"
      ]
    },
    {
      "cell_type": "code",
      "execution_count": null,
      "metadata": {
        "colab": {
          "base_uri": "https://localhost:8080/"
        },
        "id": "EwulqnVXd2FB",
        "outputId": "63c46358-bc33-42ec-e673-6010df3341aa"
      },
      "outputs": [
        {
          "output_type": "execute_result",
          "data": {
            "text/plain": [
              "5    12540\n",
              "4     4908\n",
              "3     2823\n",
              "2     1549\n",
              "1      821\n",
              "Name: Rating, dtype: int64"
            ]
          },
          "metadata": {},
          "execution_count": 9
        }
      ],
      "source": [
        "df['Rating'].value_counts()"
      ]
    },
    {
      "cell_type": "code",
      "execution_count": null,
      "metadata": {
        "id": "75FMK9a7tLBR"
      },
      "outputs": [],
      "source": [
        "# Changing Rating values from a range of 1-5 to 0-4\n",
        "df['Rating'] = df['Rating'] - 1"
      ]
    },
    {
      "cell_type": "code",
      "execution_count": null,
      "metadata": {
        "colab": {
          "base_uri": "https://localhost:8080/"
        },
        "id": "LsJtUn2ptQfd",
        "outputId": "8a0d2bd5-60f7-48b6-b361-690f65ed6a35"
      },
      "outputs": [
        {
          "output_type": "execute_result",
          "data": {
            "text/plain": [
              "4    12540\n",
              "3     4908\n",
              "2     2823\n",
              "1     1549\n",
              "0      821\n",
              "Name: Rating, dtype: int64"
            ]
          },
          "metadata": {},
          "execution_count": 11
        }
      ],
      "source": [
        "df['Rating'].value_counts()"
      ]
    },
    {
      "cell_type": "code",
      "source": [
        "# samples = 5000\n",
        "# frac_val = len(df) // samples\n",
        "\n",
        "# sampled_df_new = df.sample(frac = frac_val, random_state = 42)\n",
        "# sampled_df_new['Rating'].value_counts()"
      ],
      "metadata": {
        "id": "J4Fzjcc5yum-"
      },
      "execution_count": null,
      "outputs": []
    },
    {
      "cell_type": "code",
      "execution_count": null,
      "metadata": {
        "colab": {
          "base_uri": "https://localhost:8080/"
        },
        "id": "TvGIfN34xvqa",
        "outputId": "78d0f7ae-a8fd-4e40-ee9a-f1dd54ed0b08"
      },
      "outputs": [
        {
          "output_type": "execute_result",
          "data": {
            "text/plain": [
              "4    900\n",
              "3    800\n",
              "2    700\n",
              "1    600\n",
              "0    500\n",
              "Name: Rating, dtype: int64"
            ]
          },
          "metadata": {},
          "execution_count": 13
        }
      ],
      "source": [
        "# Re-sampling the data points from the main dataset due to it having class imbalance\n",
        "# New label counts will be present in sampling_strat\n",
        "\n",
        "empty_df = pd.DataFrame(columns = ['Review Text', 'Rating'])\n",
        "sampling_strat = {4: 900, 3: 800, 2: 700, 1: 600, 0: 500}\n",
        "sampled_data = []\n",
        "\n",
        "for i in range(5):\n",
        "  sampled_data.append(pd.DataFrame(df[df['Rating'] == i][['Review Text', 'Rating']]).head(sampling_strat[i]))\n",
        "\n",
        "sampled_df = pd.concat([empty_df, pd.concat(sampled_data)])\n",
        "sampled_df['Rating'].value_counts()"
      ]
    },
    {
      "cell_type": "code",
      "execution_count": null,
      "metadata": {
        "id": "DizhTD8NIlQf"
      },
      "outputs": [],
      "source": [
        "# sampled_df[sampled_df['Rating'] == 2].head(10)\n",
        "# sampled_df.head(10)"
      ]
    },
    {
      "cell_type": "code",
      "execution_count": null,
      "metadata": {
        "id": "FuSaPZ9eJ1o1"
      },
      "outputs": [],
      "source": [
        "shuffled_df = sampled_df.sample(frac = 1, random_state = 42)\n",
        "# shuffled_df.head(10)"
      ]
    },
    {
      "cell_type": "code",
      "execution_count": null,
      "metadata": {
        "colab": {
          "base_uri": "https://localhost:8080/"
        },
        "id": "5tbVrNe2KEA-",
        "outputId": "d61ad611-6af7-4b2a-c296-1a665571c405"
      },
      "outputs": [
        {
          "output_type": "execute_result",
          "data": {
            "text/plain": [
              "4    900\n",
              "3    800\n",
              "2    700\n",
              "1    600\n",
              "0    500\n",
              "Name: Rating, dtype: int64"
            ]
          },
          "metadata": {},
          "execution_count": 16
        }
      ],
      "source": [
        "shuffled_df['Rating'].value_counts()"
      ]
    },
    {
      "cell_type": "code",
      "execution_count": null,
      "metadata": {
        "id": "lPLPuM3wArU0",
        "colab": {
          "base_uri": "https://localhost:8080/"
        },
        "outputId": "f42ab10b-d175-4335-9750-5399e8c3ae23"
      },
      "outputs": [
        {
          "output_type": "stream",
          "name": "stdout",
          "text": [
            "object int64\n"
          ]
        }
      ],
      "source": [
        "# X = df.iloc[:,4].values\n",
        "# y = df.iloc[:,5].values\n",
        "\n",
        "X = shuffled_df.iloc[:,0].values\n",
        "# y = shuffled_df.iloc[:,1].values\n",
        "y = np.array(shuffled_df.iloc[:,1].values, dtype=np.int64)\n",
        "\n",
        "print(X.dtype, y.dtype)"
      ]
    },
    {
      "cell_type": "code",
      "source": [
        "# X = sampled_df_new.iloc[:,4].values\n",
        "# y = sampled_df_new.iloc[:,5].values\n",
        "\n",
        "# print(X.dtype, y.dtype)"
      ],
      "metadata": {
        "id": "mMqp4AJ0zL6x"
      },
      "execution_count": null,
      "outputs": []
    },
    {
      "cell_type": "code",
      "execution_count": null,
      "metadata": {
        "colab": {
          "base_uri": "https://localhost:8080/"
        },
        "id": "FqbVVL6BBp0I",
        "outputId": "a1785aba-f861-4404-f673-199eb5273050"
      },
      "outputs": [
        {
          "output_type": "stream",
          "name": "stdout",
          "text": [
            "(3500,)\n",
            "['A cute top. the peplum seam hits me at the right spot on my waist. for my curvy figure, this isn\\'t always the case. i also am drawn to tanks that i can actually wear a bra underneath without showing bra straps.\\r\\ni usually vary between a medium and a large in deletta, but definitely needed a large.\\r\\ni ordered the \"lavender\" color, which is disappointing; a dull gray. i\\'ve decided to return and order the coral instead.'\n",
            " 'This dress is absolutely beautiful! and, had it been just a little longer or a little shorter i would have kept it. but, the hem hit me at just the wrong spot! alas, i had to send it back :('\n",
            " 'I tried this skirt in my usual size s, and although it fit, it was too short for my liking and made my hips look wide b/c of the way it billowed out. the size m looked much better- hit me right below the knee in the front. (i\\'m 5\\'2\") my skirt is much more high-low than the picture. also, it sits much lower on my waist, which i like. i bought the blue, and with the color variations, it is gorgeous- reminds me of a chambray or denim coloring. i rolled it up to take on vacation, and it traveled rea'\n",
            " ...\n",
            " \"This jacket runs very large. i usually wear an xl but probably could fit into a medium. i have long arms, and the sleeves were way past my hands. i love the jacket, but it's just too sloppy.\"\n",
            " \"This shirt aesthetically is very pleasing. i love the overall design and colors. however, when i tried it on i was immediately itchy! the material is not soft like a cozy sweater ought to be. in addition, though i ordered a size medium, it fit very large - almost too oversized. the sleeves were extremely long on me and the overall body was too big. it's too bad, i really loved the look but i'm not the type to layer. if you are, go for it, but get a size smaller than you normally would!\"\n",
            " 'This top is really cute and true to size. i like the color and the nice details.']\n"
          ]
        }
      ],
      "source": [
        "print(X.shape)\n",
        "print(X)\n",
        "# print(type(X))"
      ]
    },
    {
      "cell_type": "code",
      "execution_count": null,
      "metadata": {
        "colab": {
          "base_uri": "https://localhost:8080/"
        },
        "id": "i0LcSaqIBvUH",
        "outputId": "29618960-17fa-4653-f43c-f5530e6a3200"
      },
      "outputs": [
        {
          "output_type": "stream",
          "name": "stdout",
          "text": [
            "[2 3 3 ... 2 1 4]\n"
          ]
        }
      ],
      "source": [
        "print(y)"
      ]
    },
    {
      "cell_type": "code",
      "execution_count": null,
      "metadata": {
        "id": "oZoeDoxzBwp8"
      },
      "outputs": [],
      "source": [
        "X_temp, X_validation, y_temp, y_validation = train_test_split(X, y, test_size = 0.2, random_state = 42)\n",
        "X_train, X_test, y_train, y_test = train_test_split(X_temp, y_temp, test_size = 0.25, random_state = 42)"
      ]
    },
    {
      "cell_type": "code",
      "execution_count": null,
      "metadata": {
        "colab": {
          "base_uri": "https://localhost:8080/"
        },
        "id": "LIblkJTQCkTd",
        "outputId": "98f8694c-e008-4996-ee70-a72688c08b48"
      },
      "outputs": [
        {
          "output_type": "stream",
          "name": "stdout",
          "text": [
            "(2100,) (2100,)\n",
            "(700,) (700,)\n",
            "(700,) (700,)\n"
          ]
        }
      ],
      "source": [
        "print(X_train.shape, y_train.shape)\n",
        "print(X_test.shape, y_test.shape)\n",
        "print(X_validation.shape, y_validation.shape)"
      ]
    },
    {
      "cell_type": "code",
      "execution_count": null,
      "metadata": {
        "id": "HgXpfYlHpv_j"
      },
      "outputs": [],
      "source": [
        "training_df = pd.DataFrame({'Review Text' : X_train,\n",
        "                            'Rating' : y_train})\n",
        "\n",
        "validation_df = pd.DataFrame({'Review Text' : X_validation,\n",
        "                            'Rating' : y_validation})\n",
        "\n",
        "test_df = pd.DataFrame({'Review Text' : X_test,\n",
        "                            'Rating' : y_test})"
      ]
    },
    {
      "cell_type": "code",
      "execution_count": null,
      "metadata": {
        "colab": {
          "base_uri": "https://localhost:8080/"
        },
        "id": "B72AI9Gd9n4o",
        "outputId": "08ecfc93-9622-4295-a93c-9564c06ce24c"
      },
      "outputs": [
        {
          "output_type": "execute_result",
          "data": {
            "text/plain": [
              "4    541\n",
              "3    481\n",
              "2    413\n",
              "1    364\n",
              "0    301\n",
              "Name: Rating, dtype: int64"
            ]
          },
          "metadata": {},
          "execution_count": 24
        }
      ],
      "source": [
        "training_df['Rating'].value_counts()"
      ]
    },
    {
      "cell_type": "code",
      "execution_count": null,
      "metadata": {
        "colab": {
          "base_uri": "https://localhost:8080/"
        },
        "id": "mAXu_g229uVz",
        "outputId": "0c92e5d6-7bcc-458d-f7a2-66bbf5c54b53"
      },
      "outputs": [
        {
          "output_type": "execute_result",
          "data": {
            "text/plain": [
              "4    192\n",
              "3    147\n",
              "2    140\n",
              "1    120\n",
              "0    101\n",
              "Name: Rating, dtype: int64"
            ]
          },
          "metadata": {},
          "execution_count": 25
        }
      ],
      "source": [
        "validation_df['Rating'].value_counts()"
      ]
    },
    {
      "cell_type": "code",
      "execution_count": null,
      "metadata": {
        "colab": {
          "base_uri": "https://localhost:8080/"
        },
        "id": "1t5G5WG49yJl",
        "outputId": "463bde2a-ebfa-4d94-80f6-bd7f1086ec2a"
      },
      "outputs": [
        {
          "output_type": "execute_result",
          "data": {
            "text/plain": [
              "3    172\n",
              "4    167\n",
              "2    147\n",
              "1    116\n",
              "0     98\n",
              "Name: Rating, dtype: int64"
            ]
          },
          "metadata": {},
          "execution_count": 26
        }
      ],
      "source": [
        "test_df['Rating'].value_counts()"
      ]
    },
    {
      "cell_type": "markdown",
      "metadata": {
        "id": "4VSA03_0v-rF"
      },
      "source": [
        "# Trying out different types of classifiers"
      ]
    },
    {
      "cell_type": "code",
      "execution_count": null,
      "metadata": {
        "id": "njGUckIPzOXg"
      },
      "outputs": [],
      "source": [
        "from sklearn.dummy import DummyClassifier\n",
        "from sklearn.metrics import confusion_matrix, accuracy_score, precision_score, recall_score, f1_score, classification_report\n",
        "from sklearn.linear_model import LogisticRegression\n",
        "from sklearn.feature_extraction.text import CountVectorizer\n",
        "from sklearn.feature_extraction.text import TfidfVectorizer\n",
        "from sklearn.svm import SVC"
      ]
    },
    {
      "cell_type": "code",
      "execution_count": null,
      "metadata": {
        "colab": {
          "base_uri": "https://localhost:8080/"
        },
        "id": "wXQrsvLgzCWF",
        "outputId": "a4f93505-4beb-4392-b72d-a003acca644b"
      },
      "outputs": [
        {
          "output_type": "stream",
          "name": "stdout",
          "text": [
            "(2100,) (2100,)\n",
            "(700,) (700,)\n",
            "(700,) (700,)\n"
          ]
        }
      ],
      "source": [
        "print(X_train.shape, y_train.shape)\n",
        "print(X_test.shape, y_test.shape)\n",
        "print(X_validation.shape, y_validation.shape)"
      ]
    },
    {
      "cell_type": "code",
      "execution_count": null,
      "metadata": {
        "id": "KBQKz38cBlyK"
      },
      "outputs": [],
      "source": [
        "def return_stats(y_true, y_pred):\n",
        "  classfier_accuracy = round(accuracy_score(y_true, y_pred), 3)\n",
        "  precision = round(precision_score(y_true, y_pred, average = 'macro'), 3)\n",
        "  recall = round(recall_score(y_true, y_pred, average = 'macro'), 3)\n",
        "  f1 = round(f1_score(y_true, y_pred, average = 'macro'), 3)\n",
        "\n",
        "  print(classfier_accuracy, precision, recall, f1)\n",
        "\n",
        "  return([classfier_accuracy, precision, recall, f1])"
      ]
    },
    {
      "cell_type": "code",
      "execution_count": null,
      "metadata": {
        "id": "GvbjM3A4BJ6C"
      },
      "outputs": [],
      "source": [
        "all_stats_train = []\n",
        "all_stats_val = []\n",
        "classification_report_list = []\n",
        "classifier_stats_df = pd.DataFrame(columns = ['Classifier', 'Classifier Accuracy', 'Precision', 'Recall', 'F1'])"
      ]
    },
    {
      "cell_type": "code",
      "execution_count": null,
      "metadata": {
        "colab": {
          "base_uri": "https://localhost:8080/"
        },
        "id": "NkkrUp67zCXl",
        "outputId": "496a3a4a-d41f-443b-955e-bfef329229fd"
      },
      "outputs": [
        {
          "output_type": "stream",
          "name": "stdout",
          "text": [
            "0.2742857142857143\n",
            "[[  0   0   0   0 101]\n",
            " [  0   0   0   0 120]\n",
            " [  0   0   0   0 140]\n",
            " [  0   0   0   0 147]\n",
            " [  0   0   0   0 192]]\n",
            "0.274 0.055 0.2 0.086\n",
            "              precision    recall  f1-score   support\n",
            "\n",
            "           0       0.00      0.00      0.00       101\n",
            "           1       0.00      0.00      0.00       120\n",
            "           2       0.00      0.00      0.00       140\n",
            "           3       0.00      0.00      0.00       147\n",
            "           4       0.27      1.00      0.43       192\n",
            "\n",
            "    accuracy                           0.27       700\n",
            "   macro avg       0.05      0.20      0.09       700\n",
            "weighted avg       0.08      0.27      0.12       700\n",
            "\n",
            "0.258 0.052 0.2 0.082\n"
          ]
        }
      ],
      "source": [
        "\n",
        "dc_strat1 = DummyClassifier(strategy = 'most_frequent', random_state = 42)\n",
        "dc_strat1.fit(X_train, y_train)\n",
        "\n",
        "val_score = dc_strat1.score(X_validation, y_validation)\n",
        "print(val_score)\n",
        "\n",
        "y_validation_pred = dc_strat1.predict(X_validation)\n",
        "cm = confusion_matrix(y_validation, y_validation_pred)\n",
        "print(cm)\n",
        "\n",
        "stats = return_stats(y_validation, y_validation_pred)\n",
        "all_stats_val.append(stats)\n",
        "\n",
        "class_rep = classification_report(y_validation, y_validation_pred, labels=[0, 1, 2, 3, 4])\n",
        "classification_report_list.append(class_rep)\n",
        "print(class_rep)\n",
        "\n",
        "y_train_pred = dc_strat1.predict(X_train)\n",
        "stats = return_stats(y_train, y_train_pred)\n",
        "all_stats_train.append(stats)\n",
        "\n",
        "\n",
        "# val_score = dc_strat1.score(X_train, y_train)\n",
        "# print(val_score)\n",
        "\n",
        "# y_train_pred = dc_strat1.predict(X_train)\n",
        "# cm = confusion_matrix(y_train, y_train_pred)\n",
        "# print(cm)\n",
        "\n",
        "# stats = return_stats(y_train, y_train_pred)\n",
        "# all_stats.append(stats)\n",
        "\n",
        "\n",
        "# print(X.dtype, type(X))\n",
        "# print(y.dtype, type(y))\n",
        "# print(X_validation.dtype, type(X_validation))\n",
        "# print(y_validation.dtype, type(y_validation))\n",
        "# # print(y_validation_pred.dtype, type(y_validation_pred))\n",
        "# print(X_train.dtype, type(X_train))\n",
        "# print(y_train.dtype, type(y_train))"
      ]
    },
    {
      "cell_type": "code",
      "execution_count": null,
      "metadata": {
        "colab": {
          "base_uri": "https://localhost:8080/"
        },
        "id": "rQvSkHCED0QI",
        "outputId": "cb028b87-5c5e-4ab5-df86-3647f120b7a7"
      },
      "outputs": [
        {
          "output_type": "stream",
          "name": "stdout",
          "text": [
            "0.22285714285714286\n",
            "[[13 18 23 28 19]\n",
            " [20 24 26 22 28]\n",
            " [28 24 23 34 31]\n",
            " [27 23 26 35 36]\n",
            " [24 27 38 42 61]]\n",
            "0.223 0.212 0.21 0.21\n",
            "              precision    recall  f1-score   support\n",
            "\n",
            "           0       0.12      0.13      0.12       101\n",
            "           1       0.21      0.20      0.20       120\n",
            "           2       0.17      0.16      0.17       140\n",
            "           3       0.22      0.24      0.23       147\n",
            "           4       0.35      0.32      0.33       192\n",
            "\n",
            "    accuracy                           0.22       700\n",
            "   macro avg       0.21      0.21      0.21       700\n",
            "weighted avg       0.23      0.22      0.22       700\n",
            "\n",
            "0.204 0.194 0.194 0.194\n"
          ]
        }
      ],
      "source": [
        "\n",
        "dc_strat2 = DummyClassifier(strategy = 'stratified', random_state = 42)\n",
        "dc_strat2.fit(X_train, y_train)\n",
        "\n",
        "val_score = dc_strat2.score(X_validation, y_validation)\n",
        "print(val_score)\n",
        "\n",
        "y_validation_pred = dc_strat2.predict(X_validation)\n",
        "cm = confusion_matrix(y_validation, y_validation_pred)\n",
        "print(cm)\n",
        "\n",
        "stats = return_stats(y_validation, y_validation_pred)\n",
        "all_stats_val.append(stats)\n",
        "\n",
        "class_rep = classification_report(y_validation, y_validation_pred, labels=[0, 1, 2, 3, 4])\n",
        "classification_report_list.append(class_rep)\n",
        "print(class_rep)\n",
        "\n",
        "y_train_pred = dc_strat2.predict(X_train)\n",
        "stats = return_stats(y_train, y_train_pred)\n",
        "all_stats_train.append(stats)\n",
        "\n",
        "# val_score = dc_strat2.score(X_train, y_train)\n",
        "# print(val_score)\n",
        "\n",
        "# y_train_pred = dc_strat1.predict(X_train)\n",
        "# cm = confusion_matrix(y_train, y_train_pred)\n",
        "# print(cm)\n",
        "\n",
        "# stats = return_stats(y_train, y_train_pred)\n",
        "# all_stats.append(stats)"
      ]
    },
    {
      "cell_type": "code",
      "execution_count": null,
      "metadata": {
        "colab": {
          "base_uri": "https://localhost:8080/"
        },
        "id": "R1fFwwSnzC9N",
        "outputId": "c6abbe0a-c0be-4c62-c900-5fc9bdabc078"
      },
      "outputs": [
        {
          "output_type": "stream",
          "name": "stdout",
          "text": [
            "[[ 40  37  11   6   7]\n",
            " [ 22  43  37  13   5]\n",
            " [ 13  33  55  30   9]\n",
            " [  6  13  26  66  36]\n",
            " [  2   5  12  45 128]]\n",
            "0.474 0.461 0.453 0.456\n",
            "              precision    recall  f1-score   support\n",
            "\n",
            "           0       0.48      0.40      0.43       101\n",
            "           1       0.33      0.36      0.34       120\n",
            "           2       0.39      0.39      0.39       140\n",
            "           3       0.41      0.45      0.43       147\n",
            "           4       0.69      0.67      0.68       192\n",
            "\n",
            "    accuracy                           0.47       700\n",
            "   macro avg       0.46      0.45      0.46       700\n",
            "weighted avg       0.48      0.47      0.48       700\n",
            "\n",
            "0.997 0.998 0.997 0.997\n"
          ]
        }
      ],
      "source": [
        "\n",
        "X_train_validation = np.concatenate((X_train, X_validation))\n",
        "\n",
        "vectorizer = CountVectorizer(binary = True)\n",
        "vectorizer.fit(X_train_validation)\n",
        "X_train_onehot = vectorizer.transform(X_train)\n",
        "X_validation_onehot = vectorizer.transform(X_validation)\n",
        "\n",
        "# X_train_onehot.toarray()\n",
        "\n",
        "lr = LogisticRegression(random_state = 42, max_iter = 500)\n",
        "lr.fit(X_train_onehot, y_train)\n",
        "\n",
        "y_validation_pred = lr.predict(X_validation_onehot)\n",
        "cm = confusion_matrix(y_validation, y_validation_pred)\n",
        "print(cm)\n",
        "\n",
        "stats = return_stats(y_validation, y_validation_pred)\n",
        "all_stats_val.append(stats)\n",
        "\n",
        "class_rep = classification_report(y_validation, y_validation_pred, labels=[0, 1, 2, 3, 4])\n",
        "classification_report_list.append(class_rep)\n",
        "print(class_rep)\n",
        "\n",
        "y_train_pred = lr.predict(X_train_onehot)\n",
        "stats = return_stats(y_train, y_train_pred)\n",
        "all_stats_train.append(stats)"
      ]
    },
    {
      "cell_type": "code",
      "execution_count": null,
      "metadata": {
        "colab": {
          "base_uri": "https://localhost:8080/"
        },
        "id": "ZVvaZO3fcX9d",
        "outputId": "72c3784e-c66e-4195-ddae-02f1f13f87d3"
      },
      "outputs": [
        {
          "output_type": "stream",
          "name": "stdout",
          "text": [
            "Params of Vectorizer : \n",
            " {'analyzer': 'word', 'binary': False, 'decode_error': 'strict', 'dtype': <class 'numpy.float64'>, 'encoding': 'utf-8', 'input': 'content', 'lowercase': True, 'max_df': 1.0, 'max_features': None, 'min_df': 1, 'ngram_range': (1, 1), 'norm': 'l2', 'preprocessor': None, 'smooth_idf': True, 'stop_words': None, 'strip_accents': None, 'sublinear_tf': False, 'token_pattern': '(?u)\\\\b\\\\w\\\\w+\\\\b', 'tokenizer': None, 'use_idf': True, 'vocabulary': None}\n",
            "0.8423809523809523\n",
            "[[ 36  34  15  10   6]\n",
            " [ 16  39  42  15   8]\n",
            " [  7  29  59  33  12]\n",
            " [  3   7  17  71  49]\n",
            " [  1   1   8  33 149]]\n",
            "0.506 0.49 0.472 0.475\n",
            "              precision    recall  f1-score   support\n",
            "\n",
            "           0       0.57      0.36      0.44       101\n",
            "           1       0.35      0.33      0.34       120\n",
            "           2       0.42      0.42      0.42       140\n",
            "           3       0.44      0.48      0.46       147\n",
            "           4       0.67      0.78      0.72       192\n",
            "\n",
            "    accuracy                           0.51       700\n",
            "   macro avg       0.49      0.47      0.47       700\n",
            "weighted avg       0.50      0.51      0.50       700\n",
            "\n",
            "0.842 0.849 0.836 0.841\n",
            "{'C': 1.0, 'class_weight': None, 'dual': False, 'fit_intercept': True, 'intercept_scaling': 1, 'l1_ratio': None, 'max_iter': 500, 'multi_class': 'auto', 'n_jobs': None, 'penalty': 'l2', 'random_state': 42, 'solver': 'lbfgs', 'tol': 0.0001, 'verbose': 0, 'warm_start': False}\n"
          ]
        }
      ],
      "source": [
        "\n",
        "vectorizer = TfidfVectorizer()\n",
        "print(\"Params of Vectorizer : \\n\", vectorizer.get_params())\n",
        "vectorizer.fit(X_train_validation)\n",
        "\n",
        "X_train_tfidf = vectorizer.transform(X_train)\n",
        "X_validation_tfidf = vectorizer.transform(X_validation)\n",
        "\n",
        "lr = LogisticRegression(random_state = 42, max_iter = 500)\n",
        "lr.fit(X_train_tfidf, y_train)\n",
        "\n",
        "print(lr.score(X_train_tfidf, y_train))\n",
        "\n",
        "y_validation_pred = lr.predict(X_validation_tfidf)\n",
        "cm = confusion_matrix(y_validation, y_validation_pred)\n",
        "print(cm)\n",
        "\n",
        "stats = return_stats(y_validation, y_validation_pred)\n",
        "all_stats_val.append(stats)\n",
        "\n",
        "class_rep = classification_report(y_validation, y_validation_pred, labels=[0, 1, 2, 3, 4])\n",
        "classification_report_list.append(class_rep)\n",
        "print(class_rep)\n",
        "\n",
        "y_train_pred = lr.predict(X_train_tfidf)\n",
        "stats = return_stats(y_train, y_train_pred)\n",
        "all_stats_train.append(stats)\n",
        "\n",
        "print(lr.get_params())"
      ]
    },
    {
      "cell_type": "code",
      "source": [
        "# Best Classifier\n",
        "class_rep = classification_report(y_validation, y_validation_pred, labels=[0, 1, 2, 3, 4], output_dict = True)\n",
        "class_scores = [round(class_rep[str(i)]['f1-score'], 3) for i in range(5)]\n",
        "class_scores"
      ],
      "metadata": {
        "colab": {
          "base_uri": "https://localhost:8080/"
        },
        "id": "9y4slaiVhnRr",
        "outputId": "23f03ea8-1feb-4d35-ac32-fa214f80f8c4"
      },
      "execution_count": null,
      "outputs": [
        {
          "output_type": "execute_result",
          "data": {
            "text/plain": [
              "[0.439, 0.339, 0.42, 0.46, 0.716]"
            ]
          },
          "metadata": {},
          "execution_count": 80
        }
      ]
    },
    {
      "cell_type": "code",
      "source": [
        "fig = plt.figure()\n",
        "ax = fig.add_axes([0,0,1,1])\n",
        "\n",
        "b = ax.bar([0, 1, 2, 3, 4], class_scores)\n",
        "ax.set_xlabel('Class Labels')\n",
        "ax.set_ylabel('F1 Scores')\n",
        "ax.set_title('Class Distribution for F1 Scores')\n",
        "ax.set_xticks([0, 1, 2, 3, 4])\n",
        "ax.set_xticklabels(['Label ' + str(i) for i in range(5)])\n",
        "\n",
        "for p in b:\n",
        "  height = p.get_height()\n",
        "  ax.text(x=p.get_x() + p.get_width() - 0.4, y=height + 0.008,\n",
        "  s=\"{}\".format(height),\n",
        "  ha='center')\n",
        "\n",
        "plt.show()"
      ],
      "metadata": {
        "colab": {
          "base_uri": "https://localhost:8080/",
          "height": 366
        },
        "id": "WpcjQnPpjCl5",
        "outputId": "5aeeffcf-c6d6-486c-83ef-1b3d2557b191"
      },
      "execution_count": null,
      "outputs": [
        {
          "output_type": "display_data",
          "data": {
            "text/plain": [
              "<Figure size 432x288 with 1 Axes>"
            ],
            "image/png": "[encoded data removed]"
          },
          "metadata": {
            "needs_background": "light"
          }
        }
      ]
    },
    {
      "cell_type": "code",
      "execution_count": null,
      "metadata": {
        "colab": {
          "base_uri": "https://localhost:8080/"
        },
        "id": "NXNMzn3Hd9uW",
        "outputId": "03065790-9645-43dc-d54e-22c58798ad5b"
      },
      "outputs": [
        {
          "output_type": "stream",
          "name": "stdout",
          "text": [
            "[[ 37  32  18   8   6]\n",
            " [ 12  30  54  17   7]\n",
            " [  6  23  63  36  12]\n",
            " [  6   6  21  70  44]\n",
            " [  2   6   4  50 130]]\n",
            "0.471 0.466 0.444 0.448\n",
            "              precision    recall  f1-score   support\n",
            "\n",
            "           0       0.59      0.37      0.45       101\n",
            "           1       0.31      0.25      0.28       120\n",
            "           2       0.39      0.45      0.42       140\n",
            "           3       0.39      0.48      0.43       147\n",
            "           4       0.65      0.68      0.66       192\n",
            "\n",
            "    accuracy                           0.47       700\n",
            "   macro avg       0.47      0.44      0.45       700\n",
            "weighted avg       0.48      0.47      0.47       700\n",
            "\n",
            "0.925 0.928 0.924 0.925\n"
          ]
        }
      ],
      "source": [
        "\n",
        "svc = SVC(kernel = 'rbf', random_state = 42)\n",
        "svc.fit(X_train_onehot, y_train)\n",
        "\n",
        "y_validation_pred = svc.predict(X_validation_onehot)\n",
        "cm = confusion_matrix(y_validation, y_validation_pred)\n",
        "print(cm)\n",
        "\n",
        "stats = return_stats(y_validation, y_validation_pred)\n",
        "all_stats_val.append(stats)\n",
        "\n",
        "class_rep = classification_report(y_validation, y_validation_pred, labels=[0, 1, 2, 3, 4])\n",
        "classification_report_list.append(class_rep)\n",
        "print(class_rep)\n",
        "\n",
        "y_train_pred = svc.predict(X_train_onehot)\n",
        "stats = return_stats(y_train, y_train_pred)\n",
        "all_stats_train.append(stats)"
      ]
    },
    {
      "cell_type": "code",
      "execution_count": null,
      "metadata": {
        "id": "cTrMSNuSQX7r"
      },
      "outputs": [],
      "source": [
        "# Tabular form saving of classifier metrics\n",
        "\n",
        "classifier_stats = []\n",
        "for i in range(len(all_stats_val)):\n",
        "  stats = all_stats_val[i]\n",
        "  classifier_stats.append({'Classifier' : i+1,\n",
        "                          'Classifier Accuracy' : stats[0],\n",
        "                          'Precision' : stats[1],\n",
        "                          'Recall' : stats[2],\n",
        "                          'F1': stats[3]})\n",
        "\n",
        "row_to_append = pd.DataFrame(classifier_stats)\n",
        "classifier_stats_val_df = pd.concat([classifier_stats_df, row_to_append])\n",
        "\n",
        "classifier_stats = []\n",
        "for i in range(len(all_stats_train)):\n",
        "  stats = all_stats_train[i]\n",
        "  classifier_stats.append({'Classifier' : i+1,\n",
        "                          'Classifier Accuracy' : stats[0],\n",
        "                          'Precision' : stats[1],\n",
        "                          'Recall' : stats[2],\n",
        "                          'F1': stats[3]})\n",
        "\n",
        "row_to_append = pd.DataFrame(classifier_stats)\n",
        "classifier_stats_train_df = pd.concat([classifier_stats_df, row_to_append])\n",
        "# Tabular form saving of classifier metrics"
      ]
    },
    {
      "cell_type": "code",
      "source": [
        "print(classifier_stats_val_df)\n",
        "print(classifier_stats_train_df)"
      ],
      "metadata": {
        "colab": {
          "base_uri": "https://localhost:8080/"
        },
        "id": "EAgribCgULMk",
        "outputId": "b1833db2-451b-4125-ecae-b40c8e826eb5"
      },
      "execution_count": null,
      "outputs": [
        {
          "output_type": "stream",
          "name": "stdout",
          "text": [
            "  Classifier  Classifier Accuracy  Precision  Recall     F1\n",
            "0          1                0.274      0.055   0.200  0.086\n",
            "1          2                0.223      0.212   0.210  0.210\n",
            "2          3                0.474      0.461   0.453  0.456\n",
            "3          4                0.506      0.490   0.472  0.475\n",
            "4          5                0.471      0.466   0.444  0.448\n",
            "  Classifier  Classifier Accuracy  Precision  Recall     F1\n",
            "0          1                0.258      0.052   0.200  0.082\n",
            "1          2                0.204      0.194   0.194  0.194\n",
            "2          3                0.997      0.998   0.997  0.997\n",
            "3          4                0.842      0.849   0.836  0.841\n",
            "4          5                0.925      0.928   0.924  0.925\n"
          ]
        }
      ]
    },
    {
      "cell_type": "code",
      "source": [
        "# classification_report_list[0]"
      ],
      "metadata": {
        "id": "zGiAov_wZMPr"
      },
      "execution_count": null,
      "outputs": []
    },
    {
      "cell_type": "code",
      "source": [
        "from sklearn.ensemble import RandomForestClassifier"
      ],
      "metadata": {
        "id": "QDTwYd8yxLg-"
      },
      "execution_count": null,
      "outputs": []
    },
    {
      "cell_type": "markdown",
      "source": [
        "#### Trying out Naive Baye's methods and other stuff\n"
      ],
      "metadata": {
        "id": "BtpjJYDMfnSt"
      }
    },
    {
      "cell_type": "code",
      "source": [
        "from sklearn.naive_bayes import MultinomialNB, GaussianNB, CategoricalNB, BernoulliNB\n",
        "from sklearn.ensemble import GradientBoostingClassifier"
      ],
      "metadata": {
        "id": "JQKCxlUMv9Mp"
      },
      "execution_count": null,
      "outputs": []
    },
    {
      "cell_type": "code",
      "source": [
        "vectorizer = CountVectorizer(max_features = None, min_df=15, max_df=0.9)\n",
        "# vectorizer = CountVectorizer(stop_words=stopwords.words('english'))\n",
        "X_train_vectorized = vectorizer.fit_transform(X_train).toarray()"
      ],
      "metadata": {
        "id": "t5odc51quAv4"
      },
      "execution_count": null,
      "outputs": []
    },
    {
      "cell_type": "code",
      "source": [
        "# nb = CategoricalNB()\n",
        "# nb = BernoulliNB()\n",
        "# nb = GaussianNB()\n",
        "nb = MultinomialNB()\n",
        "\n",
        "nb.fit(X_train_vectorized, y_train)\n",
        "return_stats(y_train, nb.predict(X_train_vectorized))\n",
        "\n",
        "X_validation_vectorized = vectorizer.transform(X_validation).toarray()\n",
        "y_validation_pred = nb.predict(X_validation_vectorized)\n",
        "\n",
        "return_stats(y_validation, y_validation_pred)"
      ],
      "metadata": {
        "id": "Z8hvaTX-wArj",
        "colab": {
          "base_uri": "https://localhost:8080/"
        },
        "outputId": "0b57631c-b5ad-45db-ebb1-9973b45faf1f"
      },
      "execution_count": null,
      "outputs": [
        {
          "output_type": "stream",
          "name": "stdout",
          "text": [
            "0.679 0.672 0.674 0.671\n",
            "0.48 0.461 0.456 0.458\n"
          ]
        },
        {
          "output_type": "execute_result",
          "data": {
            "text/plain": [
              "[0.48, 0.461, 0.456, 0.458]"
            ]
          },
          "metadata": {},
          "execution_count": 102
        }
      ]
    },
    {
      "cell_type": "code",
      "source": [
        "print(confusion_matrix(y_validation, y_validation_pred))\n",
        "print(classification_report(y_validation, y_validation_pred))"
      ],
      "metadata": {
        "colab": {
          "base_uri": "https://localhost:8080/"
        },
        "id": "j_n_dDK3yrg6",
        "outputId": "f9d3dd24-294f-442a-d11f-e5bc8155fee0"
      },
      "execution_count": null,
      "outputs": [
        {
          "output_type": "stream",
          "name": "stdout",
          "text": [
            "[[ 40  33  18   7   3]\n",
            " [ 25  40  39  15   1]\n",
            " [ 10  29  61  31   9]\n",
            " [  6  12  24  62  43]\n",
            " [  6   4   8  41 133]]\n",
            "              precision    recall  f1-score   support\n",
            "\n",
            "           0       0.46      0.40      0.43       101\n",
            "           1       0.34      0.33      0.34       120\n",
            "           2       0.41      0.44      0.42       140\n",
            "           3       0.40      0.42      0.41       147\n",
            "           4       0.70      0.69      0.70       192\n",
            "\n",
            "    accuracy                           0.48       700\n",
            "   macro avg       0.46      0.46      0.46       700\n",
            "weighted avg       0.48      0.48      0.48       700\n",
            "\n"
          ]
        }
      ]
    },
    {
      "cell_type": "code",
      "source": [
        "clf = GradientBoostingClassifier(n_estimators=850, max_features = 'auto', random_state = 42)\n",
        "\n",
        "clf.fit(X_train_vectorized, y_train)\n",
        "\n",
        "X_validation_vectorized = vectorizer.transform(X_validation).toarray()\n",
        "y_validation_pred = clf.predict(X_validation_vectorized)"
      ],
      "metadata": {
        "id": "0sLpFF8UMjVn"
      },
      "execution_count": null,
      "outputs": []
    },
    {
      "cell_type": "code",
      "source": [
        "print(confusion_matrix(y_validation, y_validation_pred))\n",
        "print(classification_report(y_validation, y_validation_pred))"
      ],
      "metadata": {
        "colab": {
          "base_uri": "https://localhost:8080/"
        },
        "id": "XRnKa62_M-YK",
        "outputId": "ce5ba705-f129-4539-aba6-dd75a4700bfc"
      },
      "execution_count": null,
      "outputs": [
        {
          "output_type": "stream",
          "name": "stdout",
          "text": [
            "[[ 34  38  11  13   5]\n",
            " [ 23  37  36  17   7]\n",
            " [  9  38  41  41  11]\n",
            " [  2  16  31  58  40]\n",
            " [  2   3  10  44 133]]\n",
            "              precision    recall  f1-score   support\n",
            "\n",
            "           0       0.49      0.34      0.40       101\n",
            "           1       0.28      0.31      0.29       120\n",
            "           2       0.32      0.29      0.30       140\n",
            "           3       0.34      0.39      0.36       147\n",
            "           4       0.68      0.69      0.69       192\n",
            "\n",
            "    accuracy                           0.43       700\n",
            "   macro avg       0.42      0.41      0.41       700\n",
            "weighted avg       0.44      0.43      0.43       700\n",
            "\n"
          ]
        }
      ]
    },
    {
      "cell_type": "code",
      "source": [
        "from sklearn.neural_network import MLPClassifier\n",
        "from sklearn.model_selection import GridSearchCV\n",
        "\n",
        "# clf = MLPClassifier(alpha = 1e-1, hidden_layer_sizes=(8, 15), random_state=42)\n",
        "clf = MLPClassifier(random_state=42)\n",
        "\n",
        "# clf.fit(X_train_vectorized, y_train)\n",
        "\n",
        "# X_validation_vectorized = vectorizer.transform(X_validation).toarray()\n",
        "# y_validation_pred = clf.predict(X_validation_vectorized)\n",
        "\n",
        "param_grid = {'alpha': [1e-1, 1e-2, 1e-3, 1e-4, 1e-5, 1e-6], 'solver' : ['adam', 'lbfgs', 'sgd'], 'activation' : ['identity', 'logistic', 'tanh', 'relu'], 'learning_rate' : ['constant', 'invscaling', 'adaptive']}\n",
        "\n",
        "grid_search = GridSearchCV(estimator = clf, param_grid = param_grid, cv=5)\n",
        "\n",
        "grid_search.fit(X_train_vectorized, y_train)\n",
        "\n",
        "# print(\"Solver is {}\".format(lr.get_params()['solver']))\n",
        "print(\"Best parameters: \", grid_search.best_params_)\n",
        "print(\"Accuracy score: \", grid_search.best_score_)\n",
        "print(\"Params : \", grid_search.get_params())"
      ],
      "metadata": {
        "colab": {
          "base_uri": "https://localhost:8080/"
        },
        "id": "WwMPmtl1OEFQ",
        "outputId": "901c5622-23ab-4b1c-a811-6b0fdc588818"
      },
      "execution_count": null,
      "outputs": [
        {
          "output_type": "stream",
          "name": "stdout",
          "text": [
            "Best parameters:  {'activation': 'relu', 'alpha': 0.1, 'learning_rate': 'constant', 'solver': 'lbfgs'}\n",
            "Accuracy score:  0.4123809523809524\n",
            "Params :  {'cv': 5, 'error_score': nan, 'estimator__activation': 'relu', 'estimator__alpha': 0.0001, 'estimator__batch_size': 'auto', 'estimator__beta_1': 0.9, 'estimator__beta_2': 0.999, 'estimator__early_stopping': False, 'estimator__epsilon': 1e-08, 'estimator__hidden_layer_sizes': (100,), 'estimator__learning_rate': 'constant', 'estimator__learning_rate_init': 0.001, 'estimator__max_fun': 15000, 'estimator__max_iter': 200, 'estimator__momentum': 0.9, 'estimator__n_iter_no_change': 10, 'estimator__nesterovs_momentum': True, 'estimator__power_t': 0.5, 'estimator__random_state': 42, 'estimator__shuffle': True, 'estimator__solver': 'adam', 'estimator__tol': 0.0001, 'estimator__validation_fraction': 0.1, 'estimator__verbose': False, 'estimator__warm_start': False, 'estimator': MLPClassifier(random_state=42), 'n_jobs': None, 'param_grid': {'alpha': [0.1, 0.01, 0.001, 0.0001, 1e-05, 1e-06], 'solver': ['adam', 'lbfgs', 'sgd'], 'activation': ['identity', 'logistic', 'tanh', 'relu'], 'learning_rate': ['constant', 'invscaling', 'adaptive']}, 'pre_dispatch': '2*n_jobs', 'refit': True, 'return_train_score': False, 'scoring': None, 'verbose': 0}\n"
          ]
        }
      ]
    },
    {
      "cell_type": "code",
      "source": [
        "clf = MLPClassifier(alpha = 0.1, activation = 'relu', learning_rate = 'constant', solver = 'lbfgs', random_state=42)\n",
        "\n",
        "clf.fit(X_train_vectorized, y_train)\n",
        "\n",
        "X_validation_vectorized = vectorizer.transform(X_validation).toarray()\n",
        "y_validation_pred = clf.predict(X_validation_vectorized)"
      ],
      "metadata": {
        "id": "50tw2wblQtUP"
      },
      "execution_count": null,
      "outputs": []
    },
    {
      "cell_type": "code",
      "source": [
        "print(confusion_matrix(y_validation, y_validation_pred))\n",
        "print(classification_report(y_validation, y_validation_pred))"
      ],
      "metadata": {
        "colab": {
          "base_uri": "https://localhost:8080/"
        },
        "id": "eQrWj66JOQ4X",
        "outputId": "a15a3a1c-3b28-4bde-89f6-3201faf67976"
      },
      "execution_count": null,
      "outputs": [
        {
          "output_type": "stream",
          "name": "stdout",
          "text": [
            "[[ 42  33  11   8   7]\n",
            " [ 26  37  36  15   6]\n",
            " [ 19  31  42  33  15]\n",
            " [  4  16  21  61  45]\n",
            " [  5   5  10  49 123]]\n",
            "              precision    recall  f1-score   support\n",
            "\n",
            "           0       0.44      0.42      0.43       101\n",
            "           1       0.30      0.31      0.31       120\n",
            "           2       0.35      0.30      0.32       140\n",
            "           3       0.37      0.41      0.39       147\n",
            "           4       0.63      0.64      0.63       192\n",
            "\n",
            "    accuracy                           0.44       700\n",
            "   macro avg       0.42      0.42      0.42       700\n",
            "weighted avg       0.43      0.44      0.43       700\n",
            "\n"
          ]
        }
      ]
    },
    {
      "cell_type": "markdown",
      "metadata": {
        "id": "MdfXHf4fhl3u"
      },
      "source": [
        "# Tuning of Hyperparameters"
      ]
    },
    {
      "cell_type": "code",
      "execution_count": null,
      "metadata": {
        "id": "1nCByRd7iqyU"
      },
      "outputs": [],
      "source": [
        "from sklearn.model_selection import GridSearchCV"
      ]
    },
    {
      "cell_type": "code",
      "execution_count": null,
      "metadata": {
        "colab": {
          "base_uri": "https://localhost:8080/"
        },
        "id": "n26JKEgcftWX",
        "outputId": "6457e372-17ef-4f90-b796-c642666e0bcf"
      },
      "outputs": [
        {
          "output_type": "stream",
          "name": "stdout",
          "text": [
            "{'analyzer': 'word', 'binary': False, 'decode_error': 'strict', 'dtype': <class 'numpy.float64'>, 'encoding': 'utf-8', 'input': 'content', 'lowercase': True, 'max_df': 0.8, 'max_features': None, 'min_df': 1, 'ngram_range': (1, 1), 'norm': 'l2', 'preprocessor': None, 'smooth_idf': True, 'stop_words': None, 'strip_accents': None, 'sublinear_tf': True, 'token_pattern': '(?u)\\\\b\\\\w\\\\w+\\\\b', 'tokenizer': None, 'use_idf': True, 'vocabulary': None}\n",
            "{'C': 1.0, 'class_weight': None, 'dual': False, 'fit_intercept': True, 'intercept_scaling': 1, 'l1_ratio': None, 'max_iter': 500, 'multi_class': 'auto', 'n_jobs': None, 'penalty': 'l2', 'random_state': 42, 'solver': 'lbfgs', 'tol': 0.0001, 'verbose': 0, 'warm_start': False}\n",
            "Solver is lbfgs\n",
            "Best parameters:  {'C': 2}\n",
            "Accuracy score:  0.4557142857142857\n",
            "Params :  {'cv': 5, 'error_score': nan, 'estimator__C': 1.0, 'estimator__class_weight': None, 'estimator__dual': False, 'estimator__fit_intercept': True, 'estimator__intercept_scaling': 1, 'estimator__l1_ratio': None, 'estimator__max_iter': 500, 'estimator__multi_class': 'auto', 'estimator__n_jobs': None, 'estimator__penalty': 'l2', 'estimator__random_state': 42, 'estimator__solver': 'lbfgs', 'estimator__tol': 0.0001, 'estimator__verbose': 0, 'estimator__warm_start': False, 'estimator': LogisticRegression(max_iter=500, random_state=42), 'n_jobs': None, 'param_grid': {'C': [0.01, 0.05, 0.1, 1, 1.5, 2, 2.5, 3, 3.5, 4, 5]}, 'pre_dispatch': '2*n_jobs', 'refit': True, 'return_train_score': False, 'scoring': None, 'verbose': 0}\n"
          ]
        }
      ],
      "source": [
        "vectorizer = TfidfVectorizer(sublinear_tf = True, max_df = 0.8, max_features = None)\n",
        "\n",
        "print(vectorizer.get_params())\n",
        "\n",
        "# temp - init on top - rempve later\n",
        "X_train_validation = np.concatenate((X_train, X_validation))\n",
        "\n",
        "vectorizer.fit(X_train_validation)\n",
        "X_train_tfidf = vectorizer.transform(X_train)\n",
        "X_validation_tfidf = vectorizer.transform(X_validation)\n",
        "\n",
        "lr = LogisticRegression(random_state = 42, max_iter = 500)\n",
        "print(lr.get_params())\n",
        "\n",
        "param_grid = {'C': [0.01, 0.05, 0.1, 1, 3, 5, 8]}\n",
        "# param_grid = {'solver' : ['newton-cg', 'lbfgs', 'sag', 'saga']}\n",
        "\n",
        "grid_search = GridSearchCV(estimator = lr, param_grid = param_grid, cv=5)\n",
        "\n",
        "grid_search.fit(X_train_tfidf, y_train)\n",
        "\n",
        "print(\"Solver is {}\".format(lr.get_params()['solver']))\n",
        "print(\"Best parameters: \", grid_search.best_params_)\n",
        "print(\"Accuracy score: \", grid_search.best_score_)\n",
        "print(\"Params : \", grid_search.get_params())"
      ]
    },
    {
      "cell_type": "code",
      "execution_count": null,
      "metadata": {
        "id": "9x6gid80ftZU",
        "colab": {
          "base_uri": "https://localhost:8080/"
        },
        "outputId": "68bb0a06-4999-44b5-8abd-df97f4c20efb"
      },
      "outputs": [
        {
          "output_type": "stream",
          "name": "stdout",
          "text": [
            "{'C': 2, 'class_weight': None, 'dual': False, 'fit_intercept': True, 'intercept_scaling': 1, 'l1_ratio': None, 'max_iter': 500, 'multi_class': 'auto', 'n_jobs': None, 'penalty': 'l2', 'random_state': 42, 'solver': 'lbfgs', 'tol': 0.0001, 'verbose': 0, 'warm_start': False}\n",
            "[[ 43  35  13   5   5]\n",
            " [ 18  42  40  16   4]\n",
            " [  9  31  57  33  10]\n",
            " [  2   7  23  73  42]\n",
            " [  1   4   8  35 144]]\n",
            "0.513 0.5 0.486 0.49\n",
            "              precision    recall  f1-score   support\n",
            "\n",
            "           0       0.59      0.43      0.49       101\n",
            "           1       0.35      0.35      0.35       120\n",
            "           2       0.40      0.41      0.41       140\n",
            "           3       0.45      0.50      0.47       147\n",
            "           4       0.70      0.75      0.73       192\n",
            "\n",
            "    accuracy                           0.51       700\n",
            "   macro avg       0.50      0.49      0.49       700\n",
            "weighted avg       0.51      0.51      0.51       700\n",
            "\n"
          ]
        }
      ],
      "source": [
        "# once best params are received for all 3 cases, run fresh again and get final score\n",
        "lr = LogisticRegression(C = 2, random_state = 42, max_iter = 500)\n",
        "lr.fit(X_train_tfidf, y_train)\n",
        "print(lr.get_params())\n",
        "\n",
        "y_validation_pred = lr.predict(X_validation_tfidf)\n",
        "cm = confusion_matrix(y_validation, y_validation_pred)\n",
        "print(cm)\n",
        "\n",
        "stats = return_stats(y_validation, y_validation_pred)\n",
        "class_rep = classification_report(y_validation, y_validation_pred, labels=[0, 1, 2, 3, 4])\n",
        "print(class_rep)"
      ]
    },
    {
      "cell_type": "markdown",
      "metadata": {
        "id": "qZyUHwYJqhbt"
      },
      "source": [
        "# Using BERT for working with context vectors\n"
      ]
    },
    {
      "cell_type": "code",
      "execution_count": null,
      "metadata": {
        "colab": {
          "base_uri": "https://localhost:8080/"
        },
        "id": "C1BUdu96iu1z",
        "outputId": "fc8a5d28-ddf2-4dce-faa4-d853cf8aa8d3"
      },
      "outputs": [
        {
          "output_type": "stream",
          "name": "stdout",
          "text": [
            "Looking in indexes: https://pypi.org/simple, https://us-python.pkg.dev/colab-wheels/public/simple/\n",
            "Collecting datasets\n",
            "  Downloading datasets-2.10.1-py3-none-any.whl (469 kB)\n",
            "\u001b[2K     \u001b[90m━━━━━━━━━━━━━━━━━━━━━━━━━━━━━━━━━━━━━━\u001b[0m \u001b[32m469.0/469.0 KB\u001b[0m \u001b[31m22.6 MB/s\u001b[0m eta \u001b[36m0:00:00\u001b[0m\n",
            "\u001b[?25hCollecting transformers\n",
            "  Downloading transformers-4.27.1-py3-none-any.whl (6.7 MB)\n",
            "\u001b[2K     \u001b[90m━━━━━━━━━━━━━━━━━━━━━━━━━━━━━━━━━━━━━━━━\u001b[0m \u001b[32m6.7/6.7 MB\u001b[0m \u001b[31m47.1 MB/s\u001b[0m eta \u001b[36m0:00:00\u001b[0m\n",
            "\u001b[?25hRequirement already satisfied: tqdm>=4.62.1 in /usr/local/lib/python3.9/dist-packages (from datasets) (4.65.0)\n",
            "Collecting huggingface-hub<1.0.0,>=0.2.0\n",
            "  Downloading huggingface_hub-0.13.2-py3-none-any.whl (199 kB)\n",
            "\u001b[2K     \u001b[90m━━━━━━━━━━━━━━━━━━━━━━━━━━━━━━━━━━━━━━\u001b[0m \u001b[32m199.2/199.2 KB\u001b[0m \u001b[31m24.2 MB/s\u001b[0m eta \u001b[36m0:00:00\u001b[0m\n",
            "\u001b[?25hRequirement already satisfied: numpy>=1.17 in /usr/local/lib/python3.9/dist-packages (from datasets) (1.22.4)\n",
            "Collecting xxhash\n",
            "  Downloading xxhash-3.2.0-cp39-cp39-manylinux_2_17_x86_64.manylinux2014_x86_64.whl (212 kB)\n",
            "\u001b[2K     \u001b[90m━━━━━━━━━━━━━━━━━━━━━━━━━━━━━━━━━━━━━━\u001b[0m \u001b[32m212.2/212.2 KB\u001b[0m \u001b[31m26.3 MB/s\u001b[0m eta \u001b[36m0:00:00\u001b[0m\n",
            "\u001b[?25hRequirement already satisfied: pyyaml>=5.1 in /usr/local/lib/python3.9/dist-packages (from datasets) (6.0)\n",
            "Requirement already satisfied: requests>=2.19.0 in /usr/local/lib/python3.9/dist-packages (from datasets) (2.25.1)\n",
            "Collecting responses<0.19\n",
            "  Downloading responses-0.18.0-py3-none-any.whl (38 kB)\n",
            "Collecting multiprocess\n",
            "  Downloading multiprocess-0.70.14-py39-none-any.whl (132 kB)\n",
            "\u001b[2K     \u001b[90m━━━━━━━━━━━━━━━━━━━━━━━━━━━━━━━━━━━━━━\u001b[0m \u001b[32m132.9/132.9 KB\u001b[0m \u001b[31m16.4 MB/s\u001b[0m eta \u001b[36m0:00:00\u001b[0m\n",
            "\u001b[?25hCollecting dill<0.3.7,>=0.3.0\n",
            "  Downloading dill-0.3.6-py3-none-any.whl (110 kB)\n",
            "\u001b[2K     \u001b[90m━━━━━━━━━━━━━━━━━━━━━━━━━━━━━━━━━━━━━━\u001b[0m \u001b[32m110.5/110.5 KB\u001b[0m \u001b[31m14.4 MB/s\u001b[0m eta \u001b[36m0:00:00\u001b[0m\n",
            "\u001b[?25hCollecting aiohttp\n",
            "  Downloading aiohttp-3.8.4-cp39-cp39-manylinux_2_17_x86_64.manylinux2014_x86_64.whl (1.0 MB)\n",
            "\u001b[2K     \u001b[90m━━━━━━━━━━━━━━━━━━━━━━━━━━━━━━━━━━━━━━━━\u001b[0m \u001b[32m1.0/1.0 MB\u001b[0m \u001b[31m73.6 MB/s\u001b[0m eta \u001b[36m0:00:00\u001b[0m\n",
            "\u001b[?25hRequirement already satisfied: pyarrow>=6.0.0 in /usr/local/lib/python3.9/dist-packages (from datasets) (9.0.0)\n",
            "Requirement already satisfied: packaging in /usr/local/lib/python3.9/dist-packages (from datasets) (23.0)\n",
            "Requirement already satisfied: fsspec[http]>=2021.11.1 in /usr/local/lib/python3.9/dist-packages (from datasets) (2023.3.0)\n",
            "Requirement already satisfied: pandas in /usr/local/lib/python3.9/dist-packages (from datasets) (1.4.4)\n",
            "Requirement already satisfied: regex!=2019.12.17 in /usr/local/lib/python3.9/dist-packages (from transformers) (2022.6.2)\n",
            "Requirement already satisfied: filelock in /usr/local/lib/python3.9/dist-packages (from transformers) (3.9.1)\n",
            "Collecting tokenizers!=0.11.3,<0.14,>=0.11.1\n",
            "  Downloading tokenizers-0.13.2-cp39-cp39-manylinux_2_17_x86_64.manylinux2014_x86_64.whl (7.6 MB)\n",
            "\u001b[2K     \u001b[90m━━━━━━━━━━━━━━━━━━━━━━━━━━━━━━━━━━━━━━━━\u001b[0m \u001b[32m7.6/7.6 MB\u001b[0m \u001b[31m98.5 MB/s\u001b[0m eta \u001b[36m0:00:00\u001b[0m\n",
            "\u001b[?25hCollecting async-timeout<5.0,>=4.0.0a3\n",
            "  Downloading async_timeout-4.0.2-py3-none-any.whl (5.8 kB)\n",
            "Collecting frozenlist>=1.1.1\n",
            "  Downloading frozenlist-1.3.3-cp39-cp39-manylinux_2_5_x86_64.manylinux1_x86_64.manylinux_2_17_x86_64.manylinux2014_x86_64.whl (158 kB)\n",
            "\u001b[2K     \u001b[90m━━━━━━━━━━━━━━━━━━━━━━━━━━━━━━━━━━━━━━\u001b[0m \u001b[32m158.8/158.8 KB\u001b[0m \u001b[31m17.4 MB/s\u001b[0m eta \u001b[36m0:00:00\u001b[0m\n",
            "\u001b[?25hCollecting charset-normalizer<4.0,>=2.0\n",
            "  Downloading charset_normalizer-3.1.0-cp39-cp39-manylinux_2_17_x86_64.manylinux2014_x86_64.whl (199 kB)\n",
            "\u001b[2K     \u001b[90m━━━━━━━━━━━━━━━━━━━━━━━━━━━━━━━━━━━━━━\u001b[0m \u001b[32m199.2/199.2 KB\u001b[0m \u001b[31m23.7 MB/s\u001b[0m eta \u001b[36m0:00:00\u001b[0m\n",
            "\u001b[?25hCollecting multidict<7.0,>=4.5\n",
            "  Downloading multidict-6.0.4-cp39-cp39-manylinux_2_17_x86_64.manylinux2014_x86_64.whl (114 kB)\n",
            "\u001b[2K     \u001b[90m━━━━━━━━━━━━━━━━━━━━━━━━━━━━━━━━━━━━━━\u001b[0m \u001b[32m114.2/114.2 KB\u001b[0m \u001b[31m13.9 MB/s\u001b[0m eta \u001b[36m0:00:00\u001b[0m\n",
            "\u001b[?25hCollecting yarl<2.0,>=1.0\n",
            "  Downloading yarl-1.8.2-cp39-cp39-manylinux_2_17_x86_64.manylinux2014_x86_64.whl (264 kB)\n",
            "\u001b[2K     \u001b[90m━━━━━━━━━━━━━━━━━━━━━━━━━━━━━━━━━━━━━━\u001b[0m \u001b[32m264.6/264.6 KB\u001b[0m \u001b[31m26.3 MB/s\u001b[0m eta \u001b[36m0:00:00\u001b[0m\n",
            "\u001b[?25hCollecting aiosignal>=1.1.2\n",
            "  Downloading aiosignal-1.3.1-py3-none-any.whl (7.6 kB)\n",
            "Requirement already satisfied: attrs>=17.3.0 in /usr/local/lib/python3.9/dist-packages (from aiohttp->datasets) (22.2.0)\n",
            "Requirement already satisfied: typing-extensions>=3.7.4.3 in /usr/local/lib/python3.9/dist-packages (from huggingface-hub<1.0.0,>=0.2.0->datasets) (4.5.0)\n",
            "Requirement already satisfied: idna<3,>=2.5 in /usr/local/lib/python3.9/dist-packages (from requests>=2.19.0->datasets) (2.10)\n",
            "Requirement already satisfied: urllib3<1.27,>=1.21.1 in /usr/local/lib/python3.9/dist-packages (from requests>=2.19.0->datasets) (1.26.15)\n",
            "Requirement already satisfied: certifi>=2017.4.17 in /usr/local/lib/python3.9/dist-packages (from requests>=2.19.0->datasets) (2022.12.7)\n",
            "Requirement already satisfied: chardet<5,>=3.0.2 in /usr/local/lib/python3.9/dist-packages (from requests>=2.19.0->datasets) (4.0.0)\n",
            "Requirement already satisfied: pytz>=2020.1 in /usr/local/lib/python3.9/dist-packages (from pandas->datasets) (2022.7.1)\n",
            "Requirement already satisfied: python-dateutil>=2.8.1 in /usr/local/lib/python3.9/dist-packages (from pandas->datasets) (2.8.2)\n",
            "Requirement already satisfied: six>=1.5 in /usr/local/lib/python3.9/dist-packages (from python-dateutil>=2.8.1->pandas->datasets) (1.15.0)\n",
            "Installing collected packages: tokenizers, xxhash, multidict, frozenlist, dill, charset-normalizer, async-timeout, yarl, responses, multiprocess, huggingface-hub, aiosignal, transformers, aiohttp, datasets\n",
            "Successfully installed aiohttp-3.8.4 aiosignal-1.3.1 async-timeout-4.0.2 charset-normalizer-3.1.0 datasets-2.10.1 dill-0.3.6 frozenlist-1.3.3 huggingface-hub-0.13.2 multidict-6.0.4 multiprocess-0.70.14 responses-0.18.0 tokenizers-0.13.2 transformers-4.27.1 xxhash-3.2.0 yarl-1.8.2\n"
          ]
        }
      ],
      "source": [
        "!pip install datasets transformers"
      ]
    },
    {
      "cell_type": "code",
      "execution_count": null,
      "metadata": {
        "id": "zO0P1Pcbfgvd"
      },
      "outputs": [],
      "source": [
        "from datasets.dataset_dict import DatasetDict\n",
        "from datasets import Dataset\n",
        "from transformers import AutoTokenizer, RobertaTokenizer\n",
        "from transformers import AutoModelForSequenceClassification, RobertaForSequenceClassification, RobertaModel\n",
        "from torch import nn\n",
        "import torch\n",
        "from transformers import Trainer\n",
        "from transformers import TrainingArguments\n",
        "from sklearn.metrics import f1_score, accuracy_score\n",
        "from transformers import set_seed"
      ]
    },
    {
      "cell_type": "code",
      "source": [
        "tokenizer = RobertaTokenizer.from_pretrained('roberta-base')\n",
        "model = RobertaModel.from_pretrained('roberta-base', num_labels = 5)"
      ],
      "metadata": {
        "colab": {
          "base_uri": "https://localhost:8080/",
          "height": 217,
          "referenced_widgets": [
            "c613d7a4ef32452aaaca877ef3c4a6e7",
            "ee81c4d7365442688cbe20812995e676",
            "f9816a892a564ff1b8fb0d17147654b4",
            "abc53deefa764545b0b10e20ea39eb82",
            "59cf417c18c44c358cd91e8bddf7ceaf",
            "95e726b78c414f78ad1dc0c1b4910815",
            "9d4c153256e243a89c89bbe54f5b0d10",
            "5c492e8f368f460c9a70524a4769df1c",
            "c6af6e7dced0404c9a75a7fbfa640cf8",
            "0f7444b351964d0486dc89ef51cbda74",
            "7722e37ceb6d43ee94a3c4989e7a84ae",
            "516aa96d364c49b3b08121a65bcbf736",
            "7699c87d309242c6b4de9d7dc33a26fa",
            "59b48d21dd7f427197314351db27e563",
            "98fe39dfa31c48c5a0f396ef81d7f70c",
            "c32dacd85cfd4a979c658aabc182828a",
            "c9d0beb5f4a04c36b46e7a9d10de8c0a",
            "0aa20ec346744c25a0ea099e432701b1",
            "cc78ad1e72b1488e9c7611ee3cc16a62",
            "4a8b12cd37db46c3b3e5cdcb4e92a7eb",
            "3ff9e1a1f7be4570a4e7709cf07afff2",
            "39a314597d194f6b92f91e4a2424b030",
            "a24972950dac427b891cde5a5995afb8",
            "6d9032c285aa4562b07b6ced2bfe744a",
            "e39b8f2a0a6e4ae2ace3a89b1cfb4ea5",
            "3e3fb22e594847239cd20fa71a6b7824",
            "d14b937df53b4cb481507f1eeb555d2c",
            "1d05851c4bd94d6b8768c4302b12b033",
            "dfd4929a304c4cf4964ad83478bbc6ee",
            "5be23316175a4893923be6c366fcabcf",
            "7709a9b392b342e7947dfd1babd81910",
            "3f71a12776664a4a9743732e4877acd3",
            "5f82f6e2f47b459c9c26bbea29c56e51",
            "415586025c74446eb9409d8e471f9b10",
            "5b7f499198c04127aba14eb60d0dc319",
            "f6fa4b3a698941a88e1f9de3d2f1a32a",
            "e5bd525b7d05452ba1a6cafde1e5bde9",
            "84996a0b07484daaadfddd20ceb012a8",
            "b32108d1621640f08509d9e18ff39e63",
            "ec0fdcc7e1b5401aad57eec3820df16f",
            "1ab04b6b24734f63b0c6b673b63959be",
            "c4329220409344bab3d1dc7d481c5810",
            "c68748a1aa204dc381759545b26a813c",
            "ec90220db57b4622afb579af0cf6a17a"
          ]
        },
        "id": "_XjY1Rz_nMZu",
        "outputId": "932a56a3-4bfb-4d96-926a-b2bba0757639"
      },
      "execution_count": null,
      "outputs": [
        {
          "output_type": "display_data",
          "data": {
            "text/plain": [
              "Downloading (…)olve/main/vocab.json:   0%|          | 0.00/899k [00:00<?, ?B/s]"
            ],
            "application/vnd.jupyter.widget-view+json": {
              "version_major": 2,
              "version_minor": 0,
              "model_id": "c613d7a4ef32452aaaca877ef3c4a6e7"
            }
          },
          "metadata": {}
        },
        {
          "output_type": "display_data",
          "data": {
            "text/plain": [
              "Downloading (…)olve/main/merges.txt:   0%|          | 0.00/456k [00:00<?, ?B/s]"
            ],
            "application/vnd.jupyter.widget-view+json": {
              "version_major": 2,
              "version_minor": 0,
              "model_id": "516aa96d364c49b3b08121a65bcbf736"
            }
          },
          "metadata": {}
        },
        {
          "output_type": "display_data",
          "data": {
            "text/plain": [
              "Downloading (…)lve/main/config.json:   0%|          | 0.00/481 [00:00<?, ?B/s]"
            ],
            "application/vnd.jupyter.widget-view+json": {
              "version_major": 2,
              "version_minor": 0,
              "model_id": "a24972950dac427b891cde5a5995afb8"
            }
          },
          "metadata": {}
        },
        {
          "output_type": "display_data",
          "data": {
            "text/plain": [
              "Downloading pytorch_model.bin:   0%|          | 0.00/501M [00:00<?, ?B/s]"
            ],
            "application/vnd.jupyter.widget-view+json": {
              "version_major": 2,
              "version_minor": 0,
              "model_id": "415586025c74446eb9409d8e471f9b10"
            }
          },
          "metadata": {}
        },
        {
          "output_type": "stream",
          "name": "stderr",
          "text": [
            "Some weights of the model checkpoint at roberta-base were not used when initializing RobertaModel: ['lm_head.dense.weight', 'lm_head.decoder.weight', 'lm_head.layer_norm.weight', 'lm_head.bias', 'lm_head.dense.bias', 'lm_head.layer_norm.bias']\n",
            "- This IS expected if you are initializing RobertaModel from the checkpoint of a model trained on another task or with another architecture (e.g. initializing a BertForSequenceClassification model from a BertForPreTraining model).\n",
            "- This IS NOT expected if you are initializing RobertaModel from the checkpoint of a model that you expect to be exactly identical (initializing a BertForSequenceClassification model from a BertForSequenceClassification model).\n"
          ]
        }
      ]
    },
    {
      "cell_type": "code",
      "source": [
        "def encode_text(text):\n",
        "    input_ids = torch.tensor(tokenizer.encode(text, add_special_tokens=True)).unsqueeze(0)\n",
        "    with torch.no_grad():\n",
        "        outputs = model(input_ids)\n",
        "        last_hidden_state = outputs[0]\n",
        "    return last_hidden_state[:, 0, :]\n",
        "\n",
        "X_train_list = []\n",
        "\n",
        "for text in X_train:\n",
        "    encoding = encode_text(text)\n",
        "    X_train_list.append(encoding.tolist()[0])\n",
        "\n",
        "    # print(len(encoding.tolist()[0]))\n",
        "    # print(encoding.tolist())\n",
        "    # X_train_list.append(encoding.numpy())\n",
        "\n",
        "# X_train_list = np.array(X_train_list)"
      ],
      "metadata": {
        "id": "hDeBAFHafHiv"
      },
      "execution_count": null,
      "outputs": []
    },
    {
      "cell_type": "code",
      "source": [
        "# X_train_list"
      ],
      "metadata": {
        "id": "vsV3n4EQmK1Z"
      },
      "execution_count": null,
      "outputs": []
    },
    {
      "cell_type": "code",
      "source": [
        "classifier = LogisticRegression()\n",
        "classifier.fit(X_train_list, y_train)"
      ],
      "metadata": {
        "colab": {
          "base_uri": "https://localhost:8080/",
          "height": 74
        },
        "id": "DJQ28K-fh_Jf",
        "outputId": "5962a25b-1a6c-4aa6-c634-6824dd11cf92"
      },
      "execution_count": null,
      "outputs": [
        {
          "output_type": "execute_result",
          "data": {
            "text/plain": [
              "LogisticRegression()"
            ],
            "text/html": [
              "<style>#sk-container-id-1 {color: black;background-color: white;}#sk-container-id-1 pre{padding: 0;}#sk-container-id-1 div.sk-toggleable {background-color: white;}#sk-container-id-1 label.sk-toggleable__label {cursor: pointer;display: block;width: 100%;margin-bottom: 0;padding: 0.3em;box-sizing: border-box;text-align: center;}#sk-container-id-1 label.sk-toggleable__label-arrow:before {content: \"▸\";float: left;margin-right: 0.25em;color: #696969;}#sk-container-id-1 label.sk-toggleable__label-arrow:hover:before {color: black;}#sk-container-id-1 div.sk-estimator:hover label.sk-toggleable__label-arrow:before {color: black;}#sk-container-id-1 div.sk-toggleable__content {max-height: 0;max-width: 0;overflow: hidden;text-align: left;background-color: #f0f8ff;}#sk-container-id-1 div.sk-toggleable__content pre {margin: 0.2em;color: black;border-radius: 0.25em;background-color: #f0f8ff;}#sk-container-id-1 input.sk-toggleable__control:checked~div.sk-toggleable__content {max-height: 200px;max-width: 100%;overflow: auto;}#sk-container-id-1 input.sk-toggleable__control:checked~label.sk-toggleable__label-arrow:before {content: \"▾\";}#sk-container-id-1 div.sk-estimator input.sk-toggleable__control:checked~label.sk-toggleable__label {background-color: #d4ebff;}#sk-container-id-1 div.sk-label input.sk-toggleable__control:checked~label.sk-toggleable__label {background-color: #d4ebff;}#sk-container-id-1 input.sk-hidden--visually {border: 0;clip: rect(1px 1px 1px 1px);clip: rect(1px, 1px, 1px, 1px);height: 1px;margin: -1px;overflow: hidden;padding: 0;position: absolute;width: 1px;}#sk-container-id-1 div.sk-estimator {font-family: monospace;background-color: #f0f8ff;border: 1px dotted black;border-radius: 0.25em;box-sizing: border-box;margin-bottom: 0.5em;}#sk-container-id-1 div.sk-estimator:hover {background-color: #d4ebff;}#sk-container-id-1 div.sk-parallel-item::after {content: \"\";width: 100%;border-bottom: 1px solid gray;flex-grow: 1;}#sk-container-id-1 div.sk-label:hover label.sk-toggleable__label {background-color: #d4ebff;}#sk-container-id-1 div.sk-serial::before {content: \"\";position: absolute;border-left: 1px solid gray;box-sizing: border-box;top: 0;bottom: 0;left: 50%;z-index: 0;}#sk-container-id-1 div.sk-serial {display: flex;flex-direction: column;align-items: center;background-color: white;padding-right: 0.2em;padding-left: 0.2em;position: relative;}#sk-container-id-1 div.sk-item {position: relative;z-index: 1;}#sk-container-id-1 div.sk-parallel {display: flex;align-items: stretch;justify-content: center;background-color: white;position: relative;}#sk-container-id-1 div.sk-item::before, #sk-container-id-1 div.sk-parallel-item::before {content: \"\";position: absolute;border-left: 1px solid gray;box-sizing: border-box;top: 0;bottom: 0;left: 50%;z-index: -1;}#sk-container-id-1 div.sk-parallel-item {display: flex;flex-direction: column;z-index: 1;position: relative;background-color: white;}#sk-container-id-1 div.sk-parallel-item:first-child::after {align-self: flex-end;width: 50%;}#sk-container-id-1 div.sk-parallel-item:last-child::after {align-self: flex-start;width: 50%;}#sk-container-id-1 div.sk-parallel-item:only-child::after {width: 0;}#sk-container-id-1 div.sk-dashed-wrapped {border: 1px dashed gray;margin: 0 0.4em 0.5em 0.4em;box-sizing: border-box;padding-bottom: 0.4em;background-color: white;}#sk-container-id-1 div.sk-label label {font-family: monospace;font-weight: bold;display: inline-block;line-height: 1.2em;}#sk-container-id-1 div.sk-label-container {text-align: center;}#sk-container-id-1 div.sk-container {/* jupyter's `normalize.less` sets `[hidden] { display: none; }` but bootstrap.min.css set `[hidden] { display: none !important; }` so we also need the `!important` here to be able to override the default hidden behavior on the sphinx rendered scikit-learn.org. See: https://github.com/scikit-learn/scikit-learn/issues/21755 */display: inline-block !important;position: relative;}#sk-container-id-1 div.sk-text-repr-fallback {display: none;}</style><div id=\"sk-container-id-1\" class=\"sk-top-container\"><div class=\"sk-text-repr-fallback\"><pre>LogisticRegression()</pre><b>In a Jupyter environment, please rerun this cell to show the HTML representation or trust the notebook. <br />On GitHub, the HTML representation is unable to render, please try loading this page with nbviewer.org.</b></div><div class=\"sk-container\" hidden><div class=\"sk-item\"><div class=\"sk-estimator sk-toggleable\"><input class=\"sk-toggleable__control sk-hidden--visually\" id=\"sk-estimator-id-1\" type=\"checkbox\" checked><label for=\"sk-estimator-id-1\" class=\"sk-toggleable__label sk-toggleable__label-arrow\">LogisticRegression</label><div class=\"sk-toggleable__content\"><pre>LogisticRegression()</pre></div></div></div></div></div>"
            ]
          },
          "metadata": {},
          "execution_count": 37
        }
      ]
    },
    {
      "cell_type": "code",
      "source": [
        "X_validation_list = []\n",
        "\n",
        "for text in X_validation:\n",
        "    encoding = encode_text(text)\n",
        "    X_validation_list.append(encoding.tolist()[0])\n",
        "\n",
        "# X_validation_list = np.array(X_validation_list)\n",
        "\n",
        "y_validation_pred = classifier.predict(X_validation_list)\n",
        "\n",
        "cm = confusion_matrix(y_validation, y_validation_pred)\n",
        "print(cm)\n",
        "\n",
        "stats = return_stats(y_validation, y_validation_pred)\n",
        "class_rep = classification_report(y_validation, y_validation_pred, labels=[0, 1, 2, 3, 4])\n",
        "print(class_rep)"
      ],
      "metadata": {
        "colab": {
          "base_uri": "https://localhost:8080/"
        },
        "id": "xvWn_c6AiHqI",
        "outputId": "0f01eb97-4736-4345-9f99-7242e4dc6e52"
      },
      "execution_count": null,
      "outputs": [
        {
          "output_type": "stream",
          "name": "stdout",
          "text": [
            "[[ 42  31  19   5   4]\n",
            " [ 21  43  41  11   4]\n",
            " [ 15  19  58  39   9]\n",
            " [  5   3  26  66  47]\n",
            " [  1   0   2  40 149]]\n",
            "0.511 0.491 0.483 0.484\n",
            "              precision    recall  f1-score   support\n",
            "\n",
            "           0       0.50      0.42      0.45       101\n",
            "           1       0.45      0.36      0.40       120\n",
            "           2       0.40      0.41      0.41       140\n",
            "           3       0.41      0.45      0.43       147\n",
            "           4       0.70      0.78      0.74       192\n",
            "\n",
            "    accuracy                           0.51       700\n",
            "   macro avg       0.49      0.48      0.48       700\n",
            "weighted avg       0.51      0.51      0.51       700\n",
            "\n"
          ]
        }
      ]
    },
    {
      "cell_type": "code",
      "execution_count": null,
      "metadata": {
        "colab": {
          "base_uri": "https://localhost:8080/"
        },
        "id": "i1uhHPzXfgyi",
        "outputId": "57542677-44e7-492f-8f8c-05067d4ca368"
      },
      "outputs": [
        {
          "output_type": "stream",
          "name": "stdout",
          "text": [
            "2100\n"
          ]
        },
        {
          "output_type": "execute_result",
          "data": {
            "text/plain": [
              "DatasetDict({\n",
              "    train: Dataset({\n",
              "        features: ['text', 'label'],\n",
              "        num_rows: 2100\n",
              "    })\n",
              "    validation: Dataset({\n",
              "        features: ['text', 'label'],\n",
              "        num_rows: 700\n",
              "    })\n",
              "})"
            ]
          },
          "metadata": {},
          "execution_count": 33
        }
      ],
      "source": [
        "# (b)\n",
        "\n",
        "full_dataset = DatasetDict({ 'train':Dataset.from_dict({'text':X_train, 'label':y_train}),\n",
        "                  'validation':Dataset.from_dict({'text':X_validation, 'label':y_validation})\n",
        "     })\n",
        "\n",
        "lenOfTrainingSet = len(full_dataset['train'])\n",
        "print(lenOfTrainingSet)\n",
        "\n",
        "full_dataset"
      ]
    },
    {
      "cell_type": "code",
      "execution_count": null,
      "metadata": {
        "id": "jnuaf3zUkil3",
        "colab": {
          "base_uri": "https://localhost:8080/"
        },
        "outputId": "ba402911-63bb-4285-a8c9-359d16ce8991"
      },
      "outputs": [
        {
          "output_type": "stream",
          "name": "stderr",
          "text": [
            "Some weights of the model checkpoint at roberta-base were not used when initializing RobertaForSequenceClassification: ['lm_head.layer_norm.weight', 'roberta.pooler.dense.bias', 'lm_head.layer_norm.bias', 'lm_head.dense.weight', 'lm_head.decoder.weight', 'roberta.pooler.dense.weight', 'lm_head.bias', 'lm_head.dense.bias']\n",
            "- This IS expected if you are initializing RobertaForSequenceClassification from the checkpoint of a model trained on another task or with another architecture (e.g. initializing a BertForSequenceClassification model from a BertForPreTraining model).\n",
            "- This IS NOT expected if you are initializing RobertaForSequenceClassification from the checkpoint of a model that you expect to be exactly identical (initializing a BertForSequenceClassification model from a BertForSequenceClassification model).\n",
            "Some weights of RobertaForSequenceClassification were not initialized from the model checkpoint at roberta-base and are newly initialized: ['classifier.out_proj.bias', 'classifier.dense.weight', 'classifier.out_proj.weight', 'classifier.dense.bias']\n",
            "You should probably TRAIN this model on a down-stream task to be able to use it for predictions and inference.\n"
          ]
        }
      ],
      "source": [
        "tokenizer_rb = RobertaTokenizer.from_pretrained('roberta-base')\n",
        "model_rb = RobertaForSequenceClassification.from_pretrained('roberta-base', num_labels=5)"
      ]
    },
    {
      "cell_type": "code",
      "source": [
        "tokenizer_bbu = AutoTokenizer.from_pretrained('bert-base-uncased')\n",
        "model_bbu = AutoModelForSequenceClassification.from_pretrained('bert-base-uncased', num_labels = 5)"
      ],
      "metadata": {
        "id": "BfXSWc7_pTTS",
        "colab": {
          "base_uri": "https://localhost:8080/",
          "height": 284,
          "referenced_widgets": [
            "304cba4795f54dd9af6b2b4638dcbafe",
            "e09a45ac639e409290c132d8bd3d6f13",
            "138949cba3b34d10aa28108e59806de4",
            "6c591c593e2d4e67a042522dba8b54dc",
            "2bc0d2dbf14041e58213490ec2083318",
            "a04562d248ba4dc8b0d72d0a359dec50",
            "0b64d44ef2524470bb3ce630d5c2e9e4",
            "6c77ec9c25b5439da2bc4a666ccd3c79",
            "7927c7cae0414e1eba20819b79efa10b",
            "cffcc7599d134e1484e49f3c8aefdf6e",
            "f25994f0ea0c49a682d52278600e223e",
            "82d33ff94445498ba7c0abc088257afb",
            "e9cd457743bf428285969fc791e9e13a",
            "3d0c9c7d780145aa9d1977bdfc87f3f0",
            "2c2ea5f7835845f08fb9cb2786941255",
            "f266824430404a279c1e8b444c92715b",
            "4e77f67be7c2414ab2c63bc12a139e43",
            "72d62c56814044b7a7d1ba11c186194f",
            "cab8dfae1a984e7cbe58ea41f88e47e0",
            "752954e0f0284f12a2c470349cda7b2b",
            "f68499797d4c4c31b1b16d3de175e03c",
            "316a7aa1de054fb69d4b04ce1e11a3e6",
            "c523a741ebc94fde9b8e92329a8335b2",
            "820611dbf4534e1bb75748128879e2fd",
            "4f1cb0dd6e614401821e76449dfbff4a",
            "5999628e0bbf4ca0827dc63626c49708",
            "acb1e07c29474a81be2e59fef88ad503",
            "e835121ee9f24e368c06688e54e5d6e1",
            "48b7822fc47c43dba314a749bd06af2a",
            "5fb775ef30054b76b459d91b76091a71",
            "38c491df02454aa2adfc510386f8ff66",
            "c2c7292b48824cfa80be4088430c75fa",
            "933e20d2e85045a782326bcbad405f9b",
            "8db6dbce5af9412c80af7a6a7f5cf778",
            "f9c2be3ffa8c4b9292f1b8583dac21a7",
            "bb1e5eede8f44f0bab1486695c1330e3",
            "655fa7b850144f6a84846bfae4698edc",
            "c13b20f679674643bfb9c70731e70020",
            "c8f65367f52d454195e03ee719267c2e",
            "944be2b7f31f43f19454e23e03ea3f6e",
            "c0497978776d4a5c9216668e293cdba5",
            "8f434ca982b44d2392086feaba77c25d",
            "96e2a4d20bf0417db8de91d301477279",
            "4c50646424944b718b6e22b5d1e1218d",
            "52ebdaf30c0c40158c72894bacad0156",
            "fc3f8e1573094f0d8b7c5713e360f734",
            "1d8391fa84304be797efcff9a7d74d02",
            "a86992267df04f01bd8b5fc10ec7161a",
            "f30638d14c114606aaf6f738e8044b0a",
            "49995e7b0f1641cbb19a7cc398507ede",
            "e081c84d92624d988f915064af574e0c",
            "48ec204c9cf64ef0a116e09073c2ba94",
            "6a75089cd4f04ecaa0c993ad61cc59b0",
            "93796fa52053435b926450d027869f6b",
            "f78e666914f142449960fd98112aeff2"
          ]
        },
        "outputId": "b39e4905-e3bd-48ea-c71d-ec168a1c10aa"
      },
      "execution_count": null,
      "outputs": [
        {
          "output_type": "display_data",
          "data": {
            "text/plain": [
              "Downloading (…)okenizer_config.json:   0%|          | 0.00/28.0 [00:00<?, ?B/s]"
            ],
            "application/vnd.jupyter.widget-view+json": {
              "version_major": 2,
              "version_minor": 0,
              "model_id": "304cba4795f54dd9af6b2b4638dcbafe"
            }
          },
          "metadata": {}
        },
        {
          "output_type": "display_data",
          "data": {
            "text/plain": [
              "Downloading (…)lve/main/config.json:   0%|          | 0.00/570 [00:00<?, ?B/s]"
            ],
            "application/vnd.jupyter.widget-view+json": {
              "version_major": 2,
              "version_minor": 0,
              "model_id": "82d33ff94445498ba7c0abc088257afb"
            }
          },
          "metadata": {}
        },
        {
          "output_type": "display_data",
          "data": {
            "text/plain": [
              "Downloading (…)solve/main/vocab.txt:   0%|          | 0.00/232k [00:00<?, ?B/s]"
            ],
            "application/vnd.jupyter.widget-view+json": {
              "version_major": 2,
              "version_minor": 0,
              "model_id": "c523a741ebc94fde9b8e92329a8335b2"
            }
          },
          "metadata": {}
        },
        {
          "output_type": "display_data",
          "data": {
            "text/plain": [
              "Downloading (…)/main/tokenizer.json:   0%|          | 0.00/466k [00:00<?, ?B/s]"
            ],
            "application/vnd.jupyter.widget-view+json": {
              "version_major": 2,
              "version_minor": 0,
              "model_id": "8db6dbce5af9412c80af7a6a7f5cf778"
            }
          },
          "metadata": {}
        },
        {
          "output_type": "display_data",
          "data": {
            "text/plain": [
              "Downloading pytorch_model.bin:   0%|          | 0.00/440M [00:00<?, ?B/s]"
            ],
            "application/vnd.jupyter.widget-view+json": {
              "version_major": 2,
              "version_minor": 0,
              "model_id": "52ebdaf30c0c40158c72894bacad0156"
            }
          },
          "metadata": {}
        },
        {
          "output_type": "stream",
          "name": "stderr",
          "text": [
            "Some weights of the model checkpoint at bert-base-uncased were not used when initializing BertForSequenceClassification: ['cls.seq_relationship.weight', 'cls.predictions.transform.dense.weight', 'cls.predictions.transform.LayerNorm.weight', 'cls.predictions.transform.LayerNorm.bias', 'cls.seq_relationship.bias', 'cls.predictions.transform.dense.bias', 'cls.predictions.bias', 'cls.predictions.decoder.weight']\n",
            "- This IS expected if you are initializing BertForSequenceClassification from the checkpoint of a model trained on another task or with another architecture (e.g. initializing a BertForSequenceClassification model from a BertForPreTraining model).\n",
            "- This IS NOT expected if you are initializing BertForSequenceClassification from the checkpoint of a model that you expect to be exactly identical (initializing a BertForSequenceClassification model from a BertForSequenceClassification model).\n",
            "Some weights of BertForSequenceClassification were not initialized from the model checkpoint at bert-base-uncased and are newly initialized: ['classifier.weight', 'classifier.bias']\n",
            "You should probably TRAIN this model on a down-stream task to be able to use it for predictions and inference.\n"
          ]
        }
      ]
    },
    {
      "cell_type": "code",
      "execution_count": null,
      "metadata": {
        "id": "1mtkuH-okiuj"
      },
      "outputs": [],
      "source": [
        "# full_dataset['train']['text'][1]"
      ]
    },
    {
      "cell_type": "code",
      "execution_count": null,
      "metadata": {
        "id": "Tod3rp0Vkizl"
      },
      "outputs": [],
      "source": [
        "def tokenize_text_rb(data):\n",
        "  return(tokenizer_rb(data['text'], padding = True, max_length = 512))\n",
        "\n",
        "def tokenize_text_bbu(data):\n",
        "  return(tokenizer_bbu(data['text'], padding = True, max_length = 512))"
      ]
    },
    {
      "cell_type": "code",
      "execution_count": null,
      "metadata": {
        "colab": {
          "base_uri": "https://localhost:8080/",
          "height": 191,
          "referenced_widgets": [
            "9f77aaf07314499bbbd92b2de6148d81",
            "96cdb89975d9457cb292f94f23958e30",
            "ebab7edca7144986a3f3893b8726ef53",
            "304671c5338449e1b8c66bacdde6238f",
            "a54e072d92934dcea5611d979566b16d",
            "9adc03573c2c425f8eaad56bacf806a6",
            "4b88d64130da4860b34d8531ae792c87",
            "777f5837ab9e46dfb51d5fe7230dc004",
            "ea6a7f1e686844d0872ed0045adc04ca",
            "66cbd0d2eccb46b49ac61b16bbf6f7d5",
            "ff32d555f67141708edd33977d257c86",
            "f2e5e8773d5e4cf382c23fa31e1c77a7",
            "3a518cd2e6ac46daa215b09a831871c4",
            "8686af17e2e44c05a0c503ca4c39c298",
            "f64648a68acf4576bc74e10797bf6941",
            "5e1e4aab660441008f1a1913d2ab59b3",
            "177a2549a12b4fa498e38b46258ff617",
            "f02d69e3c5e943e4935dc071f981c3ba",
            "8f95e7e0426d4d9f896901d112797d4a",
            "ee19e8d081b24b98998c80be5917f95e",
            "3d409acd1a6d4980a708f1bdd01929f6",
            "c8561ceb0a70493ca371def7eda2d668"
          ]
        },
        "id": "RJVwDKyPki2F",
        "outputId": "44c281d3-b847-4fa6-994e-fd7876d858c2"
      },
      "outputs": [
        {
          "output_type": "display_data",
          "data": {
            "text/plain": [
              "Map:   0%|          | 0/2100 [00:00<?, ? examples/s]"
            ],
            "application/vnd.jupyter.widget-view+json": {
              "version_major": 2,
              "version_minor": 0,
              "model_id": "9f77aaf07314499bbbd92b2de6148d81"
            }
          },
          "metadata": {}
        },
        {
          "output_type": "display_data",
          "data": {
            "text/plain": [
              "Map:   0%|          | 0/700 [00:00<?, ? examples/s]"
            ],
            "application/vnd.jupyter.widget-view+json": {
              "version_major": 2,
              "version_minor": 0,
              "model_id": "f2e5e8773d5e4cf382c23fa31e1c77a7"
            }
          },
          "metadata": {}
        },
        {
          "output_type": "execute_result",
          "data": {
            "text/plain": [
              "DatasetDict({\n",
              "    train: Dataset({\n",
              "        features: ['text', 'labels', 'input_ids', 'attention_mask'],\n",
              "        num_rows: 2100\n",
              "    })\n",
              "    validation: Dataset({\n",
              "        features: ['text', 'labels', 'input_ids', 'attention_mask'],\n",
              "        num_rows: 700\n",
              "    })\n",
              "})"
            ]
          },
          "metadata": {},
          "execution_count": 38
        }
      ],
      "source": [
        "full_dataset_tokenized_rb = full_dataset.map(tokenize_text_rb, batched = True)\n",
        "full_dataset_tokenized_rb = full_dataset_tokenized_rb.rename_column('label', 'labels')\n",
        "full_dataset_tokenized_rb"
      ]
    },
    {
      "cell_type": "code",
      "source": [
        "full_dataset_tokenized_bbu = full_dataset.map(tokenize_text_bbu, batched = True)\n",
        "full_dataset_tokenized_bbu = full_dataset_tokenized_bbu.rename_column('label', 'labels')\n",
        "full_dataset_tokenized_bbu"
      ],
      "metadata": {
        "colab": {
          "base_uri": "https://localhost:8080/",
          "height": 191,
          "referenced_widgets": [
            "2ce93e9702c44bb18c6f43a201a80a02",
            "90c92732f50144c2ba2a70bbc831615e",
            "d64a139fb50b4029b71bbf6d5e7a9aa9",
            "25a806e9165a444b8ddd59ddd2cbac0b",
            "6172664ac32e4d7bb1969f2840f979d0",
            "468641c3ed52464981b49a05483a7e6f",
            "7902a2d2a20a4a429075322b6708cd96",
            "5483dfdc70a14e4a9ad876f1680443fe",
            "84a854ecd9f44211b3a82c9d6403923e",
            "a88d262fd8a044c9b3ec023da8a1629f",
            "4f3f848f78aa459eb8b87d5d0d66f69a",
            "fef7e853448644248798494121d2e358",
            "372be18479f64e61b21795ed9c528b40",
            "b757a714af0e439e9d5aea7ae44f1bb6",
            "0c16812092dd4ffe8543427a9d4ae883",
            "5523da22c68042dfb1dbfc68bc53710d",
            "4cd1f5cb099e45ab971344a890a1b19d",
            "17eeca341dbd4f05857f5f97f483ee35",
            "c61839fe530d42ef9d1804f8faadfa80",
            "0d6fec636cfc41648243fb7d0b731250",
            "d4c9dfc5e3ce46b0ba3d42511534bb8f",
            "934d02dfd2544fc1b9e1fcc70b3a1864"
          ]
        },
        "id": "RW30Yz5sqJ7a",
        "outputId": "e91775db-0eec-40e3-a850-c75330969f29"
      },
      "execution_count": null,
      "outputs": [
        {
          "output_type": "display_data",
          "data": {
            "text/plain": [
              "Map:   0%|          | 0/2100 [00:00<?, ? examples/s]"
            ],
            "application/vnd.jupyter.widget-view+json": {
              "version_major": 2,
              "version_minor": 0,
              "model_id": "2ce93e9702c44bb18c6f43a201a80a02"
            }
          },
          "metadata": {}
        },
        {
          "output_type": "display_data",
          "data": {
            "text/plain": [
              "Map:   0%|          | 0/700 [00:00<?, ? examples/s]"
            ],
            "application/vnd.jupyter.widget-view+json": {
              "version_major": 2,
              "version_minor": 0,
              "model_id": "fef7e853448644248798494121d2e358"
            }
          },
          "metadata": {}
        },
        {
          "output_type": "execute_result",
          "data": {
            "text/plain": [
              "DatasetDict({\n",
              "    train: Dataset({\n",
              "        features: ['text', 'labels', 'input_ids', 'token_type_ids', 'attention_mask'],\n",
              "        num_rows: 2100\n",
              "    })\n",
              "    validation: Dataset({\n",
              "        features: ['text', 'labels', 'input_ids', 'token_type_ids', 'attention_mask'],\n",
              "        num_rows: 700\n",
              "    })\n",
              "})"
            ]
          },
          "metadata": {},
          "execution_count": 39
        }
      ]
    },
    {
      "cell_type": "code",
      "execution_count": null,
      "metadata": {
        "id": "Gf-nSnNXmA5_"
      },
      "outputs": [],
      "source": [
        "class NewTrainer(Trainer):\n",
        "  def compute_loss(self, model, inputs, return_outputs = False):\n",
        "    outputs = model(**inputs)\n",
        "    logits = outputs.get('logits')\n",
        "    labels = inputs.get('labels')\n",
        "    loss_func = nn.CrossEntropyLoss()\n",
        "    loss = loss_func(logits, labels)\n",
        "    return(loss, outputs) if return_outputs else loss"
      ]
    },
    {
      "cell_type": "code",
      "execution_count": null,
      "metadata": {
        "id": "9M75mBG1mA9v"
      },
      "outputs": [],
      "source": [
        "def compute_metrics(pred):\n",
        "  labels = pred.label_ids\n",
        "  preds = pred.predictions.argmax(-1)\n",
        "  f1 = f1_score(labels, preds, average = 'macro')\n",
        "  c_accuracy = accuracy_score(labels, preds)\n",
        "  return({'f1' : f1, 'c_accuracy' : c_accuracy})"
      ]
    },
    {
      "cell_type": "code",
      "execution_count": null,
      "metadata": {
        "id": "LrTwnv5zmBMB"
      },
      "outputs": [],
      "source": [
        "def set_training_args(lr, ep, wd, bs):\n",
        "  learning_rate = lr\n",
        "  epochs = ep\n",
        "  weight_decay = wd\n",
        "  batch_size = bs\n",
        "\n",
        "  log_training_steps = lenOfTrainingSet // batch_size\n",
        "\n",
        "  training_args = TrainingArguments(\n",
        "      output_dir=\"PartB\", # HuggingFace wants a name for your model\n",
        "      evaluation_strategy=\"epoch\", # How often we want to evaluate the model\n",
        "      learning_rate=learning_rate, # Hyperparameter\n",
        "      per_device_train_batch_size=batch_size, # Hyperparameter\n",
        "      per_device_eval_batch_size=batch_size, # Hyperparameter\n",
        "      num_train_epochs=epochs, # Hyperparameter\n",
        "      weight_decay=weight_decay, # Hyperparameter\n",
        "      logging_steps = log_training_steps\n",
        "      # fp16 = True\n",
        "  )\n",
        "\n",
        "  return(training_args)"
      ]
    },
    {
      "cell_type": "code",
      "source": [
        "# Param set #1\n",
        "\n",
        "learning_rate = 1e-4\n",
        "epochs = 3\n",
        "weight_decay = 0\n",
        "batch_size = 16\n",
        "\n",
        "training_args = set_training_args(learning_rate, epochs, weight_decay, batch_size)\n",
        "\n",
        "trainer = NewTrainer(model = model_rb,\n",
        "                     args = training_args,\n",
        "                     compute_metrics = compute_metrics,\n",
        "                     train_dataset = full_dataset_tokenized_rb['train'],\n",
        "                     eval_dataset = full_dataset_tokenized_rb['validation'],\n",
        "                     tokenizer = tokenizer_rb)\n",
        "\n",
        "trainer.train()"
      ],
      "metadata": {
        "colab": {
          "base_uri": "https://localhost:8080/",
          "height": 204
        },
        "id": "JbRITHI4u9uT",
        "outputId": "330abeca-e926-4463-aef7-003c879c5e18"
      },
      "execution_count": null,
      "outputs": [
        {
          "output_type": "display_data",
          "data": {
            "text/plain": [
              "<IPython.core.display.HTML object>"
            ],
            "text/html": [
              "\n",
              "    <div>\n",
              "      \n",
              "      <progress value='396' max='396' style='width:300px; height:20px; vertical-align: middle;'></progress>\n",
              "      [396/396 03:07, Epoch 3/3]\n",
              "    </div>\n",
              "    <table border=\"1\" class=\"dataframe\">\n",
              "  <thead>\n",
              " <tr style=\"text-align: left;\">\n",
              "      <th>Epoch</th>\n",
              "      <th>Training Loss</th>\n",
              "      <th>Validation Loss</th>\n",
              "      <th>F1</th>\n",
              "      <th>C Accuracy</th>\n",
              "    </tr>\n",
              "  </thead>\n",
              "  <tbody>\n",
              "    <tr>\n",
              "      <td>1</td>\n",
              "      <td>1.134300</td>\n",
              "      <td>1.141692</td>\n",
              "      <td>0.390137</td>\n",
              "      <td>0.477143</td>\n",
              "    </tr>\n",
              "    <tr>\n",
              "      <td>2</td>\n",
              "      <td>0.967800</td>\n",
              "      <td>1.109468</td>\n",
              "      <td>0.480031</td>\n",
              "      <td>0.524286</td>\n",
              "    </tr>\n",
              "    <tr>\n",
              "      <td>3</td>\n",
              "      <td>0.772400</td>\n",
              "      <td>1.152101</td>\n",
              "      <td>0.513196</td>\n",
              "      <td>0.534286</td>\n",
              "    </tr>\n",
              "  </tbody>\n",
              "</table><p>"
            ]
          },
          "metadata": {}
        },
        {
          "output_type": "execute_result",
          "data": {
            "text/plain": [
              "TrainOutput(global_step=396, training_loss=0.9552261612632058, metrics={'train_runtime': 187.7446, 'train_samples_per_second': 33.556, 'train_steps_per_second': 2.109, 'total_flos': 475925218234200.0, 'train_loss': 0.9552261612632058, 'epoch': 3.0})"
            ]
          },
          "metadata": {},
          "execution_count": 47
        }
      ]
    },
    {
      "cell_type": "code",
      "source": [
        "pred = trainer.predict(full_dataset_tokenized_rb['validation'])\n",
        "pred_labels = pred.predictions.argmax(-1)\n",
        "\n",
        "print(pred.metrics)\n",
        "print(\"\\nAccuracy, Prec, Recall, F1 : \", return_stats(y_validation, pred_labels))\n",
        "print(\"\\nClassification Report : \\n\", classification_report(y_validation, pred_labels, labels=[0, 1, 2, 3, 4]))"
      ],
      "metadata": {
        "colab": {
          "base_uri": "https://localhost:8080/",
          "height": 349
        },
        "id": "FKatc-RsvVmT",
        "outputId": "e4fd897f-96be-4634-ea42-a81d9c1152e6"
      },
      "execution_count": null,
      "outputs": [
        {
          "output_type": "display_data",
          "data": {
            "text/plain": [
              "<IPython.core.display.HTML object>"
            ],
            "text/html": []
          },
          "metadata": {}
        },
        {
          "output_type": "stream",
          "name": "stdout",
          "text": [
            "{'test_loss': 1.1521013975143433, 'test_f1': 0.5131958205020879, 'test_c_accuracy': 0.5342857142857143, 'test_runtime': 5.6022, 'test_samples_per_second': 124.951, 'test_steps_per_second': 7.854}\n",
            "0.534 0.519 0.512 0.513\n",
            "\n",
            "Accuracy, Prec, Recall, F1 :  [0.534, 0.519, 0.512, 0.513]\n",
            "\n",
            "Classification Report : \n",
            "               precision    recall  f1-score   support\n",
            "\n",
            "           0       0.53      0.43      0.47       101\n",
            "           1       0.41      0.47      0.43       120\n",
            "           2       0.45      0.50      0.47       140\n",
            "           3       0.48      0.42      0.45       147\n",
            "           4       0.73      0.74      0.74       192\n",
            "\n",
            "    accuracy                           0.53       700\n",
            "   macro avg       0.52      0.51      0.51       700\n",
            "weighted avg       0.54      0.53      0.53       700\n",
            "\n"
          ]
        }
      ]
    },
    {
      "cell_type": "code",
      "source": [
        "# Param set #2\n",
        "\n",
        "learning_rate = 1e-4\n",
        "epochs = 1\n",
        "weight_decay = 0\n",
        "batch_size = 16\n",
        "\n",
        "training_args = set_training_args(learning_rate, epochs, weight_decay, batch_size)\n",
        "\n",
        "trainer = NewTrainer(model = model_bbu,\n",
        "                     args = training_args,\n",
        "                     compute_metrics = compute_metrics,\n",
        "                     train_dataset = full_dataset_tokenized_bbu['train'],\n",
        "                     eval_dataset = full_dataset_tokenized_bbu['validation'],\n",
        "                     tokenizer = tokenizer_bbu)\n",
        "\n",
        "trainer.train()"
      ],
      "metadata": {
        "colab": {
          "base_uri": "https://localhost:8080/",
          "height": 179
        },
        "id": "SUeaZ0L6i-mk",
        "outputId": "0030ec4d-ad0a-404a-88a8-add5dfef699b"
      },
      "execution_count": null,
      "outputs": [
        {
          "output_type": "stream",
          "name": "stderr",
          "text": [
            "You're using a BertTokenizerFast tokenizer. Please note that with a fast tokenizer, using the `__call__` method is faster than using a method to encode the text followed by a call to the `pad` method to get a padded encoding.\n"
          ]
        },
        {
          "output_type": "display_data",
          "data": {
            "text/plain": [
              "<IPython.core.display.HTML object>"
            ],
            "text/html": [
              "\n",
              "    <div>\n",
              "      \n",
              "      <progress value='132' max='132' style='width:300px; height:20px; vertical-align: middle;'></progress>\n",
              "      [132/132 01:03, Epoch 1/1]\n",
              "    </div>\n",
              "    <table border=\"1\" class=\"dataframe\">\n",
              "  <thead>\n",
              " <tr style=\"text-align: left;\">\n",
              "      <th>Epoch</th>\n",
              "      <th>Training Loss</th>\n",
              "      <th>Validation Loss</th>\n",
              "      <th>F1</th>\n",
              "      <th>C Accuracy</th>\n",
              "    </tr>\n",
              "  </thead>\n",
              "  <tbody>\n",
              "    <tr>\n",
              "      <td>1</td>\n",
              "      <td>1.300900</td>\n",
              "      <td>1.085753</td>\n",
              "      <td>0.500836</td>\n",
              "      <td>0.521429</td>\n",
              "    </tr>\n",
              "  </tbody>\n",
              "</table><p>"
            ]
          },
          "metadata": {}
        },
        {
          "output_type": "execute_result",
          "data": {
            "text/plain": [
              "TrainOutput(global_step=132, training_loss=1.29969045790759, metrics={'train_runtime': 63.6195, 'train_samples_per_second': 33.009, 'train_steps_per_second': 2.075, 'total_flos': 159720934917600.0, 'train_loss': 1.29969045790759, 'epoch': 1.0})"
            ]
          },
          "metadata": {},
          "execution_count": 49
        }
      ]
    },
    {
      "cell_type": "code",
      "source": [
        "pred = trainer.predict(full_dataset_tokenized_bbu['validation'])\n",
        "pred_labels = pred.predictions.argmax(-1)\n",
        "\n",
        "print(pred.metrics)\n",
        "print(\"\\nAccuracy, Prec, Recall, F1 : \", return_stats(y_validation, pred_labels))\n",
        "print(\"\\nClassification Report : \\n\", classification_report(y_validation, pred_labels, labels=[0, 1, 2, 3, 4]))"
      ],
      "metadata": {
        "colab": {
          "base_uri": "https://localhost:8080/",
          "height": 349
        },
        "id": "fDIKKh70i-pP",
        "outputId": "53c9dc54-68dd-4b0c-cb2d-2357d00f7f4b"
      },
      "execution_count": null,
      "outputs": [
        {
          "output_type": "display_data",
          "data": {
            "text/plain": [
              "<IPython.core.display.HTML object>"
            ],
            "text/html": []
          },
          "metadata": {}
        },
        {
          "output_type": "stream",
          "name": "stdout",
          "text": [
            "{'test_loss': 1.0857526063919067, 'test_f1': 0.500836475891471, 'test_c_accuracy': 0.5214285714285715, 'test_runtime': 5.9406, 'test_samples_per_second': 117.834, 'test_steps_per_second': 7.407}\n",
            "0.521 0.506 0.507 0.501\n",
            "\n",
            "Accuracy, Prec, Recall, F1 :  [0.521, 0.506, 0.507, 0.501]\n",
            "\n",
            "Classification Report : \n",
            "               precision    recall  f1-score   support\n",
            "\n",
            "           0       0.51      0.56      0.54       101\n",
            "           1       0.35      0.50      0.41       120\n",
            "           2       0.43      0.33      0.37       140\n",
            "           3       0.49      0.38      0.43       147\n",
            "           4       0.76      0.76      0.76       192\n",
            "\n",
            "    accuracy                           0.52       700\n",
            "   macro avg       0.51      0.51      0.50       700\n",
            "weighted avg       0.53      0.52      0.52       700\n",
            "\n"
          ]
        }
      ]
    },
    {
      "cell_type": "code",
      "source": [
        "# Param set #3\n",
        "\n",
        "learning_rate = 1e-5\n",
        "epochs = 3\n",
        "weight_decay = 0\n",
        "batch_size = 8\n",
        "\n",
        "training_args = set_training_args(learning_rate, epochs, weight_decay, batch_size)\n",
        "\n",
        "trainer = NewTrainer(model = model_bbu,\n",
        "                     args = training_args,\n",
        "                     compute_metrics = compute_metrics,\n",
        "                     train_dataset = full_dataset_tokenized_bbu['train'],\n",
        "                     eval_dataset = full_dataset_tokenized_bbu['validation'],\n",
        "                     tokenizer = tokenizer_bbu)\n",
        "\n",
        "trainer.train()"
      ],
      "metadata": {
        "colab": {
          "base_uri": "https://localhost:8080/",
          "height": 204
        },
        "id": "FA-8HITFARUQ",
        "outputId": "03c9081f-2657-4c05-976a-c9f1e05d9e1b"
      },
      "execution_count": null,
      "outputs": [
        {
          "output_type": "display_data",
          "data": {
            "text/plain": [
              "<IPython.core.display.HTML object>"
            ],
            "text/html": [
              "\n",
              "    <div>\n",
              "      \n",
              "      <progress value='789' max='789' style='width:300px; height:20px; vertical-align: middle;'></progress>\n",
              "      [789/789 03:34, Epoch 3/3]\n",
              "    </div>\n",
              "    <table border=\"1\" class=\"dataframe\">\n",
              "  <thead>\n",
              " <tr style=\"text-align: left;\">\n",
              "      <th>Epoch</th>\n",
              "      <th>Training Loss</th>\n",
              "      <th>Validation Loss</th>\n",
              "      <th>F1</th>\n",
              "      <th>C Accuracy</th>\n",
              "    </tr>\n",
              "  </thead>\n",
              "  <tbody>\n",
              "    <tr>\n",
              "      <td>1</td>\n",
              "      <td>0.950300</td>\n",
              "      <td>1.088435</td>\n",
              "      <td>0.513143</td>\n",
              "      <td>0.527143</td>\n",
              "    </tr>\n",
              "    <tr>\n",
              "      <td>2</td>\n",
              "      <td>0.787100</td>\n",
              "      <td>1.126612</td>\n",
              "      <td>0.506161</td>\n",
              "      <td>0.524286</td>\n",
              "    </tr>\n",
              "    <tr>\n",
              "      <td>3</td>\n",
              "      <td>0.678400</td>\n",
              "      <td>1.141876</td>\n",
              "      <td>0.536163</td>\n",
              "      <td>0.558571</td>\n",
              "    </tr>\n",
              "  </tbody>\n",
              "</table><p>"
            ]
          },
          "metadata": {}
        },
        {
          "output_type": "execute_result",
          "data": {
            "text/plain": [
              "TrainOutput(global_step=789, training_loss=0.8045504177780055, metrics={'train_runtime': 215.2492, 'train_samples_per_second': 29.268, 'train_steps_per_second': 3.666, 'total_flos': 479138137426944.0, 'train_loss': 0.8045504177780055, 'epoch': 3.0})"
            ]
          },
          "metadata": {},
          "execution_count": 51
        }
      ]
    },
    {
      "cell_type": "code",
      "source": [
        "pred = trainer.predict(full_dataset_tokenized_bbu['validation'])\n",
        "pred_labels = pred.predictions.argmax(-1)\n",
        "\n",
        "print(pred.metrics)\n",
        "print(\"\\nAccuracy, Prec, Recall, F1 : \", return_stats(y_validation, pred_labels))\n",
        "print(\"\\nClassification Report : \\n\", classification_report(y_validation, pred_labels, labels=[0, 1, 2, 3, 4]))"
      ],
      "metadata": {
        "colab": {
          "base_uri": "https://localhost:8080/",
          "height": 349
        },
        "id": "Vwcdc_bFAevu",
        "outputId": "07e405d7-dbde-4d92-adca-c66ddfd86bd3"
      },
      "execution_count": null,
      "outputs": [
        {
          "output_type": "display_data",
          "data": {
            "text/plain": [
              "<IPython.core.display.HTML object>"
            ],
            "text/html": []
          },
          "metadata": {}
        },
        {
          "output_type": "stream",
          "name": "stdout",
          "text": [
            "{'test_loss': 1.1418763399124146, 'test_f1': 0.536163431845854, 'test_c_accuracy': 0.5585714285714286, 'test_runtime': 6.1374, 'test_samples_per_second': 114.054, 'test_steps_per_second': 14.338}\n",
            "0.559 0.537 0.537 0.536\n",
            "\n",
            "Accuracy, Prec, Recall, F1 :  [0.559, 0.537, 0.537, 0.536]\n",
            "\n",
            "Classification Report : \n",
            "               precision    recall  f1-score   support\n",
            "\n",
            "           0       0.54      0.53      0.54       101\n",
            "           1       0.42      0.43      0.43       120\n",
            "           2       0.46      0.49      0.47       140\n",
            "           3       0.52      0.44      0.47       147\n",
            "           4       0.75      0.80      0.77       192\n",
            "\n",
            "    accuracy                           0.56       700\n",
            "   macro avg       0.54      0.54      0.54       700\n",
            "weighted avg       0.56      0.56      0.56       700\n",
            "\n"
          ]
        }
      ]
    }
  ],
  "metadata": {
    "colab": {
      "provenance": []
    },
    "gpuClass": "standard",
    "kernelspec": {
      "display_name": "Python 3",
      "name": "python3"
    },
    "language_info": {
      "name": "python"
    },
    "widgets": {
      "application/vnd.jupyter.widget-state+json": {
        "304cba4795f54dd9af6b2b4638dcbafe": {
          "model_module": "@jupyter-widgets/controls",
          "model_name": "HBoxModel",
          "model_module_version": "1.5.0",
          "state": {
            "_dom_classes": [],
            "_model_module": "@jupyter-widgets/controls",
            "_model_module_version": "1.5.0",
            "_model_name": "HBoxModel",
            "_view_count": null,
            "_view_module": "@jupyter-widgets/controls",
            "_view_module_version": "1.5.0",
            "_view_name": "HBoxView",
            "box_style": "",
            "children": [
              "IPY_MODEL_e09a45ac639e409290c132d8bd3d6f13",
              "IPY_MODEL_138949cba3b34d10aa28108e59806de4",
              "IPY_MODEL_6c591c593e2d4e67a042522dba8b54dc"
            ],
            "layout": "IPY_MODEL_2bc0d2dbf14041e58213490ec2083318"
          }
        },
        "e09a45ac639e409290c132d8bd3d6f13": {
          "model_module": "@jupyter-widgets/controls",
          "model_name": "HTMLModel",
          "model_module_version": "1.5.0",
          "state": {
            "_dom_classes": [],
            "_model_module": "@jupyter-widgets/controls",
            "_model_module_version": "1.5.0",
            "_model_name": "HTMLModel",
            "_view_count": null,
            "_view_module": "@jupyter-widgets/controls",
            "_view_module_version": "1.5.0",
            "_view_name": "HTMLView",
            "description": "",
            "description_tooltip": null,
            "layout": "IPY_MODEL_a04562d248ba4dc8b0d72d0a359dec50",
            "placeholder": "​",
            "style": "IPY_MODEL_0b64d44ef2524470bb3ce630d5c2e9e4",
            "value": "Downloading (…)okenizer_config.json: 100%"
          }
        },
        "138949cba3b34d10aa28108e59806de4": {
          "model_module": "@jupyter-widgets/controls",
          "model_name": "FloatProgressModel",
          "model_module_version": "1.5.0",
          "state": {
            "_dom_classes": [],
            "_model_module": "@jupyter-widgets/controls",
            "_model_module_version": "1.5.0",
            "_model_name": "FloatProgressModel",
            "_view_count": null,
            "_view_module": "@jupyter-widgets/controls",
            "_view_module_version": "1.5.0",
            "_view_name": "ProgressView",
            "bar_style": "success",
            "description": "",
            "description_tooltip": null,
            "layout": "IPY_MODEL_6c77ec9c25b5439da2bc4a666ccd3c79",
            "max": 28,
            "min": 0,
            "orientation": "horizontal",
            "style": "IPY_MODEL_7927c7cae0414e1eba20819b79efa10b",
            "value": 28
          }
        },
        "6c591c593e2d4e67a042522dba8b54dc": {
          "model_module": "@jupyter-widgets/controls",
          "model_name": "HTMLModel",
          "model_module_version": "1.5.0",
          "state": {
            "_dom_classes": [],
            "_model_module": "@jupyter-widgets/controls",
            "_model_module_version": "1.5.0",
            "_model_name": "HTMLModel",
            "_view_count": null,
            "_view_module": "@jupyter-widgets/controls",
            "_view_module_version": "1.5.0",
            "_view_name": "HTMLView",
            "description": "",
            "description_tooltip": null,
            "layout": "IPY_MODEL_cffcc7599d134e1484e49f3c8aefdf6e",
            "placeholder": "​",
            "style": "IPY_MODEL_f25994f0ea0c49a682d52278600e223e",
            "value": " 28.0/28.0 [00:00&lt;00:00, 873B/s]"
          }
        },
        "2bc0d2dbf14041e58213490ec2083318": {
          "model_module": "@jupyter-widgets/base",
          "model_name": "LayoutModel",
          "model_module_version": "1.2.0",
          "state": {
            "_model_module": "@jupyter-widgets/base",
            "_model_module_version": "1.2.0",
            "_model_name": "LayoutModel",
            "_view_count": null,
            "_view_module": "@jupyter-widgets/base",
            "_view_module_version": "1.2.0",
            "_view_name": "LayoutView",
            "align_content": null,
            "align_items": null,
            "align_self": null,
            "border": null,
            "bottom": null,
            "display": null,
            "flex": null,
            "flex_flow": null,
            "grid_area": null,
            "grid_auto_columns": null,
            "grid_auto_flow": null,
            "grid_auto_rows": null,
            "grid_column": null,
            "grid_gap": null,
            "grid_row": null,
            "grid_template_areas": null,
            "grid_template_columns": null,
            "grid_template_rows": null,
            "height": null,
            "justify_content": null,
            "justify_items": null,
            "left": null,
            "margin": null,
            "max_height": null,
            "max_width": null,
            "min_height": null,
            "min_width": null,
            "object_fit": null,
            "object_position": null,
            "order": null,
            "overflow": null,
            "overflow_x": null,
            "overflow_y": null,
            "padding": null,
            "right": null,
            "top": null,
            "visibility": null,
            "width": null
          }
        },
        "a04562d248ba4dc8b0d72d0a359dec50": {
          "model_module": "@jupyter-widgets/base",
          "model_name": "LayoutModel",
          "model_module_version": "1.2.0",
          "state": {
            "_model_module": "@jupyter-widgets/base",
            "_model_module_version": "1.2.0",
            "_model_name": "LayoutModel",
            "_view_count": null,
            "_view_module": "@jupyter-widgets/base",
            "_view_module_version": "1.2.0",
            "_view_name": "LayoutView",
            "align_content": null,
            "align_items": null,
            "align_self": null,
            "border": null,
            "bottom": null,
            "display": null,
            "flex": null,
            "flex_flow": null,
            "grid_area": null,
            "grid_auto_columns": null,
            "grid_auto_flow": null,
            "grid_auto_rows": null,
            "grid_column": null,
            "grid_gap": null,
            "grid_row": null,
            "grid_template_areas": null,
            "grid_template_columns": null,
            "grid_template_rows": null,
            "height": null,
            "justify_content": null,
            "justify_items": null,
            "left": null,
            "margin": null,
            "max_height": null,
            "max_width": null,
            "min_height": null,
            "min_width": null,
            "object_fit": null,
            "object_position": null,
            "order": null,
            "overflow": null,
            "overflow_x": null,
            "overflow_y": null,
            "padding": null,
            "right": null,
            "top": null,
            "visibility": null,
            "width": null
          }
        },
        "0b64d44ef2524470bb3ce630d5c2e9e4": {
          "model_module": "@jupyter-widgets/controls",
          "model_name": "DescriptionStyleModel",
          "model_module_version": "1.5.0",
          "state": {
            "_model_module": "@jupyter-widgets/controls",
            "_model_module_version": "1.5.0",
            "_model_name": "DescriptionStyleModel",
            "_view_count": null,
            "_view_module": "@jupyter-widgets/base",
            "_view_module_version": "1.2.0",
            "_view_name": "StyleView",
            "description_width": ""
          }
        },
        "6c77ec9c25b5439da2bc4a666ccd3c79": {
          "model_module": "@jupyter-widgets/base",
          "model_name": "LayoutModel",
          "model_module_version": "1.2.0",
          "state": {
            "_model_module": "@jupyter-widgets/base",
            "_model_module_version": "1.2.0",
            "_model_name": "LayoutModel",
            "_view_count": null,
            "_view_module": "@jupyter-widgets/base",
            "_view_module_version": "1.2.0",
            "_view_name": "LayoutView",
            "align_content": null,
            "align_items": null,
            "align_self": null,
            "border": null,
            "bottom": null,
            "display": null,
            "flex": null,
            "flex_flow": null,
            "grid_area": null,
            "grid_auto_columns": null,
            "grid_auto_flow": null,
            "grid_auto_rows": null,
            "grid_column": null,
            "grid_gap": null,
            "grid_row": null,
            "grid_template_areas": null,
            "grid_template_columns": null,
            "grid_template_rows": null,
            "height": null,
            "justify_content": null,
            "justify_items": null,
            "left": null,
            "margin": null,
            "max_height": null,
            "max_width": null,
            "min_height": null,
            "min_width": null,
            "object_fit": null,
            "object_position": null,
            "order": null,
            "overflow": null,
            "overflow_x": null,
            "overflow_y": null,
            "padding": null,
            "right": null,
            "top": null,
            "visibility": null,
            "width": null
          }
        },
        "7927c7cae0414e1eba20819b79efa10b": {
          "model_module": "@jupyter-widgets/controls",
          "model_name": "ProgressStyleModel",
          "model_module_version": "1.5.0",
          "state": {
            "_model_module": "@jupyter-widgets/controls",
            "_model_module_version": "1.5.0",
            "_model_name": "ProgressStyleModel",
            "_view_count": null,
            "_view_module": "@jupyter-widgets/base",
            "_view_module_version": "1.2.0",
            "_view_name": "StyleView",
            "bar_color": null,
            "description_width": ""
          }
        },
        "cffcc7599d134e1484e49f3c8aefdf6e": {
          "model_module": "@jupyter-widgets/base",
          "model_name": "LayoutModel",
          "model_module_version": "1.2.0",
          "state": {
            "_model_module": "@jupyter-widgets/base",
            "_model_module_version": "1.2.0",
            "_model_name": "LayoutModel",
            "_view_count": null,
            "_view_module": "@jupyter-widgets/base",
            "_view_module_version": "1.2.0",
            "_view_name": "LayoutView",
            "align_content": null,
            "align_items": null,
            "align_self": null,
            "border": null,
            "bottom": null,
            "display": null,
            "flex": null,
            "flex_flow": null,
            "grid_area": null,
            "grid_auto_columns": null,
            "grid_auto_flow": null,
            "grid_auto_rows": null,
            "grid_column": null,
            "grid_gap": null,
            "grid_row": null,
            "grid_template_areas": null,
            "grid_template_columns": null,
            "grid_template_rows": null,
            "height": null,
            "justify_content": null,
            "justify_items": null,
            "left": null,
            "margin": null,
            "max_height": null,
            "max_width": null,
            "min_height": null,
            "min_width": null,
            "object_fit": null,
            "object_position": null,
            "order": null,
            "overflow": null,
            "overflow_x": null,
            "overflow_y": null,
            "padding": null,
            "right": null,
            "top": null,
            "visibility": null,
            "width": null
          }
        },
        "f25994f0ea0c49a682d52278600e223e": {
          "model_module": "@jupyter-widgets/controls",
          "model_name": "DescriptionStyleModel",
          "model_module_version": "1.5.0",
          "state": {
            "_model_module": "@jupyter-widgets/controls",
            "_model_module_version": "1.5.0",
            "_model_name": "DescriptionStyleModel",
            "_view_count": null,
            "_view_module": "@jupyter-widgets/base",
            "_view_module_version": "1.2.0",
            "_view_name": "StyleView",
            "description_width": ""
          }
        },
        "82d33ff94445498ba7c0abc088257afb": {
          "model_module": "@jupyter-widgets/controls",
          "model_name": "HBoxModel",
          "model_module_version": "1.5.0",
          "state": {
            "_dom_classes": [],
            "_model_module": "@jupyter-widgets/controls",
            "_model_module_version": "1.5.0",
            "_model_name": "HBoxModel",
            "_view_count": null,
            "_view_module": "@jupyter-widgets/controls",
            "_view_module_version": "1.5.0",
            "_view_name": "HBoxView",
            "box_style": "",
            "children": [
              "IPY_MODEL_e9cd457743bf428285969fc791e9e13a",
              "IPY_MODEL_3d0c9c7d780145aa9d1977bdfc87f3f0",
              "IPY_MODEL_2c2ea5f7835845f08fb9cb2786941255"
            ],
            "layout": "IPY_MODEL_f266824430404a279c1e8b444c92715b"
          }
        },
        "e9cd457743bf428285969fc791e9e13a": {
          "model_module": "@jupyter-widgets/controls",
          "model_name": "HTMLModel",
          "model_module_version": "1.5.0",
          "state": {
            "_dom_classes": [],
            "_model_module": "@jupyter-widgets/controls",
            "_model_module_version": "1.5.0",
            "_model_name": "HTMLModel",
            "_view_count": null,
            "_view_module": "@jupyter-widgets/controls",
            "_view_module_version": "1.5.0",
            "_view_name": "HTMLView",
            "description": "",
            "description_tooltip": null,
            "layout": "IPY_MODEL_4e77f67be7c2414ab2c63bc12a139e43",
            "placeholder": "​",
            "style": "IPY_MODEL_72d62c56814044b7a7d1ba11c186194f",
            "value": "Downloading (…)lve/main/config.json: 100%"
          }
        },
        "3d0c9c7d780145aa9d1977bdfc87f3f0": {
          "model_module": "@jupyter-widgets/controls",
          "model_name": "FloatProgressModel",
          "model_module_version": "1.5.0",
          "state": {
            "_dom_classes": [],
            "_model_module": "@jupyter-widgets/controls",
            "_model_module_version": "1.5.0",
            "_model_name": "FloatProgressModel",
            "_view_count": null,
            "_view_module": "@jupyter-widgets/controls",
            "_view_module_version": "1.5.0",
            "_view_name": "ProgressView",
            "bar_style": "success",
            "description": "",
            "description_tooltip": null,
            "layout": "IPY_MODEL_cab8dfae1a984e7cbe58ea41f88e47e0",
            "max": 570,
            "min": 0,
            "orientation": "horizontal",
            "style": "IPY_MODEL_752954e0f0284f12a2c470349cda7b2b",
            "value": 570
          }
        },
        "2c2ea5f7835845f08fb9cb2786941255": {
          "model_module": "@jupyter-widgets/controls",
          "model_name": "HTMLModel",
          "model_module_version": "1.5.0",
          "state": {
            "_dom_classes": [],
            "_model_module": "@jupyter-widgets/controls",
            "_model_module_version": "1.5.0",
            "_model_name": "HTMLModel",
            "_view_count": null,
            "_view_module": "@jupyter-widgets/controls",
            "_view_module_version": "1.5.0",
            "_view_name": "HTMLView",
            "description": "",
            "description_tooltip": null,
            "layout": "IPY_MODEL_f68499797d4c4c31b1b16d3de175e03c",
            "placeholder": "​",
            "style": "IPY_MODEL_316a7aa1de054fb69d4b04ce1e11a3e6",
            "value": " 570/570 [00:00&lt;00:00, 19.2kB/s]"
          }
        },
        "f266824430404a279c1e8b444c92715b": {
          "model_module": "@jupyter-widgets/base",
          "model_name": "LayoutModel",
          "model_module_version": "1.2.0",
          "state": {
            "_model_module": "@jupyter-widgets/base",
            "_model_module_version": "1.2.0",
            "_model_name": "LayoutModel",
            "_view_count": null,
            "_view_module": "@jupyter-widgets/base",
            "_view_module_version": "1.2.0",
            "_view_name": "LayoutView",
            "align_content": null,
            "align_items": null,
            "align_self": null,
            "border": null,
            "bottom": null,
            "display": null,
            "flex": null,
            "flex_flow": null,
            "grid_area": null,
            "grid_auto_columns": null,
            "grid_auto_flow": null,
            "grid_auto_rows": null,
            "grid_column": null,
            "grid_gap": null,
            "grid_row": null,
            "grid_template_areas": null,
            "grid_template_columns": null,
            "grid_template_rows": null,
            "height": null,
            "justify_content": null,
            "justify_items": null,
            "left": null,
            "margin": null,
            "max_height": null,
            "max_width": null,
            "min_height": null,
            "min_width": null,
            "object_fit": null,
            "object_position": null,
            "order": null,
            "overflow": null,
            "overflow_x": null,
            "overflow_y": null,
            "padding": null,
            "right": null,
            "top": null,
            "visibility": null,
            "width": null
          }
        },
        "4e77f67be7c2414ab2c63bc12a139e43": {
          "model_module": "@jupyter-widgets/base",
          "model_name": "LayoutModel",
          "model_module_version": "1.2.0",
          "state": {
            "_model_module": "@jupyter-widgets/base",
            "_model_module_version": "1.2.0",
            "_model_name": "LayoutModel",
            "_view_count": null,
            "_view_module": "@jupyter-widgets/base",
            "_view_module_version": "1.2.0",
            "_view_name": "LayoutView",
            "align_content": null,
            "align_items": null,
            "align_self": null,
            "border": null,
            "bottom": null,
            "display": null,
            "flex": null,
            "flex_flow": null,
            "grid_area": null,
            "grid_auto_columns": null,
            "grid_auto_flow": null,
            "grid_auto_rows": null,
            "grid_column": null,
            "grid_gap": null,
            "grid_row": null,
            "grid_template_areas": null,
            "grid_template_columns": null,
            "grid_template_rows": null,
            "height": null,
            "justify_content": null,
            "justify_items": null,
            "left": null,
            "margin": null,
            "max_height": null,
            "max_width": null,
            "min_height": null,
            "min_width": null,
            "object_fit": null,
            "object_position": null,
            "order": null,
            "overflow": null,
            "overflow_x": null,
            "overflow_y": null,
            "padding": null,
            "right": null,
            "top": null,
            "visibility": null,
            "width": null
          }
        },
        "72d62c56814044b7a7d1ba11c186194f": {
          "model_module": "@jupyter-widgets/controls",
          "model_name": "DescriptionStyleModel",
          "model_module_version": "1.5.0",
          "state": {
            "_model_module": "@jupyter-widgets/controls",
            "_model_module_version": "1.5.0",
            "_model_name": "DescriptionStyleModel",
            "_view_count": null,
            "_view_module": "@jupyter-widgets/base",
            "_view_module_version": "1.2.0",
            "_view_name": "StyleView",
            "description_width": ""
          }
        },
        "cab8dfae1a984e7cbe58ea41f88e47e0": {
          "model_module": "@jupyter-widgets/base",
          "model_name": "LayoutModel",
          "model_module_version": "1.2.0",
          "state": {
            "_model_module": "@jupyter-widgets/base",
            "_model_module_version": "1.2.0",
            "_model_name": "LayoutModel",
            "_view_count": null,
            "_view_module": "@jupyter-widgets/base",
            "_view_module_version": "1.2.0",
            "_view_name": "LayoutView",
            "align_content": null,
            "align_items": null,
            "align_self": null,
            "border": null,
            "bottom": null,
            "display": null,
            "flex": null,
            "flex_flow": null,
            "grid_area": null,
            "grid_auto_columns": null,
            "grid_auto_flow": null,
            "grid_auto_rows": null,
            "grid_column": null,
            "grid_gap": null,
            "grid_row": null,
            "grid_template_areas": null,
            "grid_template_columns": null,
            "grid_template_rows": null,
            "height": null,
            "justify_content": null,
            "justify_items": null,
            "left": null,
            "margin": null,
            "max_height": null,
            "max_width": null,
            "min_height": null,
            "min_width": null,
            "object_fit": null,
            "object_position": null,
            "order": null,
            "overflow": null,
            "overflow_x": null,
            "overflow_y": null,
            "padding": null,
            "right": null,
            "top": null,
            "visibility": null,
            "width": null
          }
        },
        "752954e0f0284f12a2c470349cda7b2b": {
          "model_module": "@jupyter-widgets/controls",
          "model_name": "ProgressStyleModel",
          "model_module_version": "1.5.0",
          "state": {
            "_model_module": "@jupyter-widgets/controls",
            "_model_module_version": "1.5.0",
            "_model_name": "ProgressStyleModel",
            "_view_count": null,
            "_view_module": "@jupyter-widgets/base",
            "_view_module_version": "1.2.0",
            "_view_name": "StyleView",
            "bar_color": null,
            "description_width": ""
          }
        },
        "f68499797d4c4c31b1b16d3de175e03c": {
          "model_module": "@jupyter-widgets/base",
          "model_name": "LayoutModel",
          "model_module_version": "1.2.0",
          "state": {
            "_model_module": "@jupyter-widgets/base",
            "_model_module_version": "1.2.0",
            "_model_name": "LayoutModel",
            "_view_count": null,
            "_view_module": "@jupyter-widgets/base",
            "_view_module_version": "1.2.0",
            "_view_name": "LayoutView",
            "align_content": null,
            "align_items": null,
            "align_self": null,
            "border": null,
            "bottom": null,
            "display": null,
            "flex": null,
            "flex_flow": null,
            "grid_area": null,
            "grid_auto_columns": null,
            "grid_auto_flow": null,
            "grid_auto_rows": null,
            "grid_column": null,
            "grid_gap": null,
            "grid_row": null,
            "grid_template_areas": null,
            "grid_template_columns": null,
            "grid_template_rows": null,
            "height": null,
            "justify_content": null,
            "justify_items": null,
            "left": null,
            "margin": null,
            "max_height": null,
            "max_width": null,
            "min_height": null,
            "min_width": null,
            "object_fit": null,
            "object_position": null,
            "order": null,
            "overflow": null,
            "overflow_x": null,
            "overflow_y": null,
            "padding": null,
            "right": null,
            "top": null,
            "visibility": null,
            "width": null
          }
        },
        "316a7aa1de054fb69d4b04ce1e11a3e6": {
          "model_module": "@jupyter-widgets/controls",
          "model_name": "DescriptionStyleModel",
          "model_module_version": "1.5.0",
          "state": {
            "_model_module": "@jupyter-widgets/controls",
            "_model_module_version": "1.5.0",
            "_model_name": "DescriptionStyleModel",
            "_view_count": null,
            "_view_module": "@jupyter-widgets/base",
            "_view_module_version": "1.2.0",
            "_view_name": "StyleView",
            "description_width": ""
          }
        },
        "c523a741ebc94fde9b8e92329a8335b2": {
          "model_module": "@jupyter-widgets/controls",
          "model_name": "HBoxModel",
          "model_module_version": "1.5.0",
          "state": {
            "_dom_classes": [],
            "_model_module": "@jupyter-widgets/controls",
            "_model_module_version": "1.5.0",
            "_model_name": "HBoxModel",
            "_view_count": null,
            "_view_module": "@jupyter-widgets/controls",
            "_view_module_version": "1.5.0",
            "_view_name": "HBoxView",
            "box_style": "",
            "children": [
              "IPY_MODEL_820611dbf4534e1bb75748128879e2fd",
              "IPY_MODEL_4f1cb0dd6e614401821e76449dfbff4a",
              "IPY_MODEL_5999628e0bbf4ca0827dc63626c49708"
            ],
            "layout": "IPY_MODEL_acb1e07c29474a81be2e59fef88ad503"
          }
        },
        "820611dbf4534e1bb75748128879e2fd": {
          "model_module": "@jupyter-widgets/controls",
          "model_name": "HTMLModel",
          "model_module_version": "1.5.0",
          "state": {
            "_dom_classes": [],
            "_model_module": "@jupyter-widgets/controls",
            "_model_module_version": "1.5.0",
            "_model_name": "HTMLModel",
            "_view_count": null,
            "_view_module": "@jupyter-widgets/controls",
            "_view_module_version": "1.5.0",
            "_view_name": "HTMLView",
            "description": "",
            "description_tooltip": null,
            "layout": "IPY_MODEL_e835121ee9f24e368c06688e54e5d6e1",
            "placeholder": "​",
            "style": "IPY_MODEL_48b7822fc47c43dba314a749bd06af2a",
            "value": "Downloading (…)solve/main/vocab.txt: 100%"
          }
        },
        "4f1cb0dd6e614401821e76449dfbff4a": {
          "model_module": "@jupyter-widgets/controls",
          "model_name": "FloatProgressModel",
          "model_module_version": "1.5.0",
          "state": {
            "_dom_classes": [],
            "_model_module": "@jupyter-widgets/controls",
            "_model_module_version": "1.5.0",
            "_model_name": "FloatProgressModel",
            "_view_count": null,
            "_view_module": "@jupyter-widgets/controls",
            "_view_module_version": "1.5.0",
            "_view_name": "ProgressView",
            "bar_style": "success",
            "description": "",
            "description_tooltip": null,
            "layout": "IPY_MODEL_5fb775ef30054b76b459d91b76091a71",
            "max": 231508,
            "min": 0,
            "orientation": "horizontal",
            "style": "IPY_MODEL_38c491df02454aa2adfc510386f8ff66",
            "value": 231508
          }
        },
        "5999628e0bbf4ca0827dc63626c49708": {
          "model_module": "@jupyter-widgets/controls",
          "model_name": "HTMLModel",
          "model_module_version": "1.5.0",
          "state": {
            "_dom_classes": [],
            "_model_module": "@jupyter-widgets/controls",
            "_model_module_version": "1.5.0",
            "_model_name": "HTMLModel",
            "_view_count": null,
            "_view_module": "@jupyter-widgets/controls",
            "_view_module_version": "1.5.0",
            "_view_name": "HTMLView",
            "description": "",
            "description_tooltip": null,
            "layout": "IPY_MODEL_c2c7292b48824cfa80be4088430c75fa",
            "placeholder": "​",
            "style": "IPY_MODEL_933e20d2e85045a782326bcbad405f9b",
            "value": " 232k/232k [00:00&lt;00:00, 261kB/s]"
          }
        },
        "acb1e07c29474a81be2e59fef88ad503": {
          "model_module": "@jupyter-widgets/base",
          "model_name": "LayoutModel",
          "model_module_version": "1.2.0",
          "state": {
            "_model_module": "@jupyter-widgets/base",
            "_model_module_version": "1.2.0",
            "_model_name": "LayoutModel",
            "_view_count": null,
            "_view_module": "@jupyter-widgets/base",
            "_view_module_version": "1.2.0",
            "_view_name": "LayoutView",
            "align_content": null,
            "align_items": null,
            "align_self": null,
            "border": null,
            "bottom": null,
            "display": null,
            "flex": null,
            "flex_flow": null,
            "grid_area": null,
            "grid_auto_columns": null,
            "grid_auto_flow": null,
            "grid_auto_rows": null,
            "grid_column": null,
            "grid_gap": null,
            "grid_row": null,
            "grid_template_areas": null,
            "grid_template_columns": null,
            "grid_template_rows": null,
            "height": null,
            "justify_content": null,
            "justify_items": null,
            "left": null,
            "margin": null,
            "max_height": null,
            "max_width": null,
            "min_height": null,
            "min_width": null,
            "object_fit": null,
            "object_position": null,
            "order": null,
            "overflow": null,
            "overflow_x": null,
            "overflow_y": null,
            "padding": null,
            "right": null,
            "top": null,
            "visibility": null,
            "width": null
          }
        },
        "e835121ee9f24e368c06688e54e5d6e1": {
          "model_module": "@jupyter-widgets/base",
          "model_name": "LayoutModel",
          "model_module_version": "1.2.0",
          "state": {
            "_model_module": "@jupyter-widgets/base",
            "_model_module_version": "1.2.0",
            "_model_name": "LayoutModel",
            "_view_count": null,
            "_view_module": "@jupyter-widgets/base",
            "_view_module_version": "1.2.0",
            "_view_name": "LayoutView",
            "align_content": null,
            "align_items": null,
            "align_self": null,
            "border": null,
            "bottom": null,
            "display": null,
            "flex": null,
            "flex_flow": null,
            "grid_area": null,
            "grid_auto_columns": null,
            "grid_auto_flow": null,
            "grid_auto_rows": null,
            "grid_column": null,
            "grid_gap": null,
            "grid_row": null,
            "grid_template_areas": null,
            "grid_template_columns": null,
            "grid_template_rows": null,
            "height": null,
            "justify_content": null,
            "justify_items": null,
            "left": null,
            "margin": null,
            "max_height": null,
            "max_width": null,
            "min_height": null,
            "min_width": null,
            "object_fit": null,
            "object_position": null,
            "order": null,
            "overflow": null,
            "overflow_x": null,
            "overflow_y": null,
            "padding": null,
            "right": null,
            "top": null,
            "visibility": null,
            "width": null
          }
        },
        "48b7822fc47c43dba314a749bd06af2a": {
          "model_module": "@jupyter-widgets/controls",
          "model_name": "DescriptionStyleModel",
          "model_module_version": "1.5.0",
          "state": {
            "_model_module": "@jupyter-widgets/controls",
            "_model_module_version": "1.5.0",
            "_model_name": "DescriptionStyleModel",
            "_view_count": null,
            "_view_module": "@jupyter-widgets/base",
            "_view_module_version": "1.2.0",
            "_view_name": "StyleView",
            "description_width": ""
          }
        },
        "5fb775ef30054b76b459d91b76091a71": {
          "model_module": "@jupyter-widgets/base",
          "model_name": "LayoutModel",
          "model_module_version": "1.2.0",
          "state": {
            "_model_module": "@jupyter-widgets/base",
            "_model_module_version": "1.2.0",
            "_model_name": "LayoutModel",
            "_view_count": null,
            "_view_module": "@jupyter-widgets/base",
            "_view_module_version": "1.2.0",
            "_view_name": "LayoutView",
            "align_content": null,
            "align_items": null,
            "align_self": null,
            "border": null,
            "bottom": null,
            "display": null,
            "flex": null,
            "flex_flow": null,
            "grid_area": null,
            "grid_auto_columns": null,
            "grid_auto_flow": null,
            "grid_auto_rows": null,
            "grid_column": null,
            "grid_gap": null,
            "grid_row": null,
            "grid_template_areas": null,
            "grid_template_columns": null,
            "grid_template_rows": null,
            "height": null,
            "justify_content": null,
            "justify_items": null,
            "left": null,
            "margin": null,
            "max_height": null,
            "max_width": null,
            "min_height": null,
            "min_width": null,
            "object_fit": null,
            "object_position": null,
            "order": null,
            "overflow": null,
            "overflow_x": null,
            "overflow_y": null,
            "padding": null,
            "right": null,
            "top": null,
            "visibility": null,
            "width": null
          }
        },
        "38c491df02454aa2adfc510386f8ff66": {
          "model_module": "@jupyter-widgets/controls",
          "model_name": "ProgressStyleModel",
          "model_module_version": "1.5.0",
          "state": {
            "_model_module": "@jupyter-widgets/controls",
            "_model_module_version": "1.5.0",
            "_model_name": "ProgressStyleModel",
            "_view_count": null,
            "_view_module": "@jupyter-widgets/base",
            "_view_module_version": "1.2.0",
            "_view_name": "StyleView",
            "bar_color": null,
            "description_width": ""
          }
        },
        "c2c7292b48824cfa80be4088430c75fa": {
          "model_module": "@jupyter-widgets/base",
          "model_name": "LayoutModel",
          "model_module_version": "1.2.0",
          "state": {
            "_model_module": "@jupyter-widgets/base",
            "_model_module_version": "1.2.0",
            "_model_name": "LayoutModel",
            "_view_count": null,
            "_view_module": "@jupyter-widgets/base",
            "_view_module_version": "1.2.0",
            "_view_name": "LayoutView",
            "align_content": null,
            "align_items": null,
            "align_self": null,
            "border": null,
            "bottom": null,
            "display": null,
            "flex": null,
            "flex_flow": null,
            "grid_area": null,
            "grid_auto_columns": null,
            "grid_auto_flow": null,
            "grid_auto_rows": null,
            "grid_column": null,
            "grid_gap": null,
            "grid_row": null,
            "grid_template_areas": null,
            "grid_template_columns": null,
            "grid_template_rows": null,
            "height": null,
            "justify_content": null,
            "justify_items": null,
            "left": null,
            "margin": null,
            "max_height": null,
            "max_width": null,
            "min_height": null,
            "min_width": null,
            "object_fit": null,
            "object_position": null,
            "order": null,
            "overflow": null,
            "overflow_x": null,
            "overflow_y": null,
            "padding": null,
            "right": null,
            "top": null,
            "visibility": null,
            "width": null
          }
        },
        "933e20d2e85045a782326bcbad405f9b": {
          "model_module": "@jupyter-widgets/controls",
          "model_name": "DescriptionStyleModel",
          "model_module_version": "1.5.0",
          "state": {
            "_model_module": "@jupyter-widgets/controls",
            "_model_module_version": "1.5.0",
            "_model_name": "DescriptionStyleModel",
            "_view_count": null,
            "_view_module": "@jupyter-widgets/base",
            "_view_module_version": "1.2.0",
            "_view_name": "StyleView",
            "description_width": ""
          }
        },
        "8db6dbce5af9412c80af7a6a7f5cf778": {
          "model_module": "@jupyter-widgets/controls",
          "model_name": "HBoxModel",
          "model_module_version": "1.5.0",
          "state": {
            "_dom_classes": [],
            "_model_module": "@jupyter-widgets/controls",
            "_model_module_version": "1.5.0",
            "_model_name": "HBoxModel",
            "_view_count": null,
            "_view_module": "@jupyter-widgets/controls",
            "_view_module_version": "1.5.0",
            "_view_name": "HBoxView",
            "box_style": "",
            "children": [
              "IPY_MODEL_f9c2be3ffa8c4b9292f1b8583dac21a7",
              "IPY_MODEL_bb1e5eede8f44f0bab1486695c1330e3",
              "IPY_MODEL_655fa7b850144f6a84846bfae4698edc"
            ],
            "layout": "IPY_MODEL_c13b20f679674643bfb9c70731e70020"
          }
        },
        "f9c2be3ffa8c4b9292f1b8583dac21a7": {
          "model_module": "@jupyter-widgets/controls",
          "model_name": "HTMLModel",
          "model_module_version": "1.5.0",
          "state": {
            "_dom_classes": [],
            "_model_module": "@jupyter-widgets/controls",
            "_model_module_version": "1.5.0",
            "_model_name": "HTMLModel",
            "_view_count": null,
            "_view_module": "@jupyter-widgets/controls",
            "_view_module_version": "1.5.0",
            "_view_name": "HTMLView",
            "description": "",
            "description_tooltip": null,
            "layout": "IPY_MODEL_c8f65367f52d454195e03ee719267c2e",
            "placeholder": "​",
            "style": "IPY_MODEL_944be2b7f31f43f19454e23e03ea3f6e",
            "value": "Downloading (…)/main/tokenizer.json: 100%"
          }
        },
        "bb1e5eede8f44f0bab1486695c1330e3": {
          "model_module": "@jupyter-widgets/controls",
          "model_name": "FloatProgressModel",
          "model_module_version": "1.5.0",
          "state": {
            "_dom_classes": [],
            "_model_module": "@jupyter-widgets/controls",
            "_model_module_version": "1.5.0",
            "_model_name": "FloatProgressModel",
            "_view_count": null,
            "_view_module": "@jupyter-widgets/controls",
            "_view_module_version": "1.5.0",
            "_view_name": "ProgressView",
            "bar_style": "success",
            "description": "",
            "description_tooltip": null,
            "layout": "IPY_MODEL_c0497978776d4a5c9216668e293cdba5",
            "max": 466062,
            "min": 0,
            "orientation": "horizontal",
            "style": "IPY_MODEL_8f434ca982b44d2392086feaba77c25d",
            "value": 466062
          }
        },
        "655fa7b850144f6a84846bfae4698edc": {
          "model_module": "@jupyter-widgets/controls",
          "model_name": "HTMLModel",
          "model_module_version": "1.5.0",
          "state": {
            "_dom_classes": [],
            "_model_module": "@jupyter-widgets/controls",
            "_model_module_version": "1.5.0",
            "_model_name": "HTMLModel",
            "_view_count": null,
            "_view_module": "@jupyter-widgets/controls",
            "_view_module_version": "1.5.0",
            "_view_name": "HTMLView",
            "description": "",
            "description_tooltip": null,
            "layout": "IPY_MODEL_96e2a4d20bf0417db8de91d301477279",
            "placeholder": "​",
            "style": "IPY_MODEL_4c50646424944b718b6e22b5d1e1218d",
            "value": " 466k/466k [00:00&lt;00:00, 504kB/s]"
          }
        },
        "c13b20f679674643bfb9c70731e70020": {
          "model_module": "@jupyter-widgets/base",
          "model_name": "LayoutModel",
          "model_module_version": "1.2.0",
          "state": {
            "_model_module": "@jupyter-widgets/base",
            "_model_module_version": "1.2.0",
            "_model_name": "LayoutModel",
            "_view_count": null,
            "_view_module": "@jupyter-widgets/base",
            "_view_module_version": "1.2.0",
            "_view_name": "LayoutView",
            "align_content": null,
            "align_items": null,
            "align_self": null,
            "border": null,
            "bottom": null,
            "display": null,
            "flex": null,
            "flex_flow": null,
            "grid_area": null,
            "grid_auto_columns": null,
            "grid_auto_flow": null,
            "grid_auto_rows": null,
            "grid_column": null,
            "grid_gap": null,
            "grid_row": null,
            "grid_template_areas": null,
            "grid_template_columns": null,
            "grid_template_rows": null,
            "height": null,
            "justify_content": null,
            "justify_items": null,
            "left": null,
            "margin": null,
            "max_height": null,
            "max_width": null,
            "min_height": null,
            "min_width": null,
            "object_fit": null,
            "object_position": null,
            "order": null,
            "overflow": null,
            "overflow_x": null,
            "overflow_y": null,
            "padding": null,
            "right": null,
            "top": null,
            "visibility": null,
            "width": null
          }
        },
        "c8f65367f52d454195e03ee719267c2e": {
          "model_module": "@jupyter-widgets/base",
          "model_name": "LayoutModel",
          "model_module_version": "1.2.0",
          "state": {
            "_model_module": "@jupyter-widgets/base",
            "_model_module_version": "1.2.0",
            "_model_name": "LayoutModel",
            "_view_count": null,
            "_view_module": "@jupyter-widgets/base",
            "_view_module_version": "1.2.0",
            "_view_name": "LayoutView",
            "align_content": null,
            "align_items": null,
            "align_self": null,
            "border": null,
            "bottom": null,
            "display": null,
            "flex": null,
            "flex_flow": null,
            "grid_area": null,
            "grid_auto_columns": null,
            "grid_auto_flow": null,
            "grid_auto_rows": null,
            "grid_column": null,
            "grid_gap": null,
            "grid_row": null,
            "grid_template_areas": null,
            "grid_template_columns": null,
            "grid_template_rows": null,
            "height": null,
            "justify_content": null,
            "justify_items": null,
            "left": null,
            "margin": null,
            "max_height": null,
            "max_width": null,
            "min_height": null,
            "min_width": null,
            "object_fit": null,
            "object_position": null,
            "order": null,
            "overflow": null,
            "overflow_x": null,
            "overflow_y": null,
            "padding": null,
            "right": null,
            "top": null,
            "visibility": null,
            "width": null
          }
        },
        "944be2b7f31f43f19454e23e03ea3f6e": {
          "model_module": "@jupyter-widgets/controls",
          "model_name": "DescriptionStyleModel",
          "model_module_version": "1.5.0",
          "state": {
            "_model_module": "@jupyter-widgets/controls",
            "_model_module_version": "1.5.0",
            "_model_name": "DescriptionStyleModel",
            "_view_count": null,
            "_view_module": "@jupyter-widgets/base",
            "_view_module_version": "1.2.0",
            "_view_name": "StyleView",
            "description_width": ""
          }
        },
        "c0497978776d4a5c9216668e293cdba5": {
          "model_module": "@jupyter-widgets/base",
          "model_name": "LayoutModel",
          "model_module_version": "1.2.0",
          "state": {
            "_model_module": "@jupyter-widgets/base",
            "_model_module_version": "1.2.0",
            "_model_name": "LayoutModel",
            "_view_count": null,
            "_view_module": "@jupyter-widgets/base",
            "_view_module_version": "1.2.0",
            "_view_name": "LayoutView",
            "align_content": null,
            "align_items": null,
            "align_self": null,
            "border": null,
            "bottom": null,
            "display": null,
            "flex": null,
            "flex_flow": null,
            "grid_area": null,
            "grid_auto_columns": null,
            "grid_auto_flow": null,
            "grid_auto_rows": null,
            "grid_column": null,
            "grid_gap": null,
            "grid_row": null,
            "grid_template_areas": null,
            "grid_template_columns": null,
            "grid_template_rows": null,
            "height": null,
            "justify_content": null,
            "justify_items": null,
            "left": null,
            "margin": null,
            "max_height": null,
            "max_width": null,
            "min_height": null,
            "min_width": null,
            "object_fit": null,
            "object_position": null,
            "order": null,
            "overflow": null,
            "overflow_x": null,
            "overflow_y": null,
            "padding": null,
            "right": null,
            "top": null,
            "visibility": null,
            "width": null
          }
        },
        "8f434ca982b44d2392086feaba77c25d": {
          "model_module": "@jupyter-widgets/controls",
          "model_name": "ProgressStyleModel",
          "model_module_version": "1.5.0",
          "state": {
            "_model_module": "@jupyter-widgets/controls",
            "_model_module_version": "1.5.0",
            "_model_name": "ProgressStyleModel",
            "_view_count": null,
            "_view_module": "@jupyter-widgets/base",
            "_view_module_version": "1.2.0",
            "_view_name": "StyleView",
            "bar_color": null,
            "description_width": ""
          }
        },
        "96e2a4d20bf0417db8de91d301477279": {
          "model_module": "@jupyter-widgets/base",
          "model_name": "LayoutModel",
          "model_module_version": "1.2.0",
          "state": {
            "_model_module": "@jupyter-widgets/base",
            "_model_module_version": "1.2.0",
            "_model_name": "LayoutModel",
            "_view_count": null,
            "_view_module": "@jupyter-widgets/base",
            "_view_module_version": "1.2.0",
            "_view_name": "LayoutView",
            "align_content": null,
            "align_items": null,
            "align_self": null,
            "border": null,
            "bottom": null,
            "display": null,
            "flex": null,
            "flex_flow": null,
            "grid_area": null,
            "grid_auto_columns": null,
            "grid_auto_flow": null,
            "grid_auto_rows": null,
            "grid_column": null,
            "grid_gap": null,
            "grid_row": null,
            "grid_template_areas": null,
            "grid_template_columns": null,
            "grid_template_rows": null,
            "height": null,
            "justify_content": null,
            "justify_items": null,
            "left": null,
            "margin": null,
            "max_height": null,
            "max_width": null,
            "min_height": null,
            "min_width": null,
            "object_fit": null,
            "object_position": null,
            "order": null,
            "overflow": null,
            "overflow_x": null,
            "overflow_y": null,
            "padding": null,
            "right": null,
            "top": null,
            "visibility": null,
            "width": null
          }
        },
        "4c50646424944b718b6e22b5d1e1218d": {
          "model_module": "@jupyter-widgets/controls",
          "model_name": "DescriptionStyleModel",
          "model_module_version": "1.5.0",
          "state": {
            "_model_module": "@jupyter-widgets/controls",
            "_model_module_version": "1.5.0",
            "_model_name": "DescriptionStyleModel",
            "_view_count": null,
            "_view_module": "@jupyter-widgets/base",
            "_view_module_version": "1.2.0",
            "_view_name": "StyleView",
            "description_width": ""
          }
        },
        "52ebdaf30c0c40158c72894bacad0156": {
          "model_module": "@jupyter-widgets/controls",
          "model_name": "HBoxModel",
          "model_module_version": "1.5.0",
          "state": {
            "_dom_classes": [],
            "_model_module": "@jupyter-widgets/controls",
            "_model_module_version": "1.5.0",
            "_model_name": "HBoxModel",
            "_view_count": null,
            "_view_module": "@jupyter-widgets/controls",
            "_view_module_version": "1.5.0",
            "_view_name": "HBoxView",
            "box_style": "",
            "children": [
              "IPY_MODEL_fc3f8e1573094f0d8b7c5713e360f734",
              "IPY_MODEL_1d8391fa84304be797efcff9a7d74d02",
              "IPY_MODEL_a86992267df04f01bd8b5fc10ec7161a"
            ],
            "layout": "IPY_MODEL_f30638d14c114606aaf6f738e8044b0a"
          }
        },
        "fc3f8e1573094f0d8b7c5713e360f734": {
          "model_module": "@jupyter-widgets/controls",
          "model_name": "HTMLModel",
          "model_module_version": "1.5.0",
          "state": {
            "_dom_classes": [],
            "_model_module": "@jupyter-widgets/controls",
            "_model_module_version": "1.5.0",
            "_model_name": "HTMLModel",
            "_view_count": null,
            "_view_module": "@jupyter-widgets/controls",
            "_view_module_version": "1.5.0",
            "_view_name": "HTMLView",
            "description": "",
            "description_tooltip": null,
            "layout": "IPY_MODEL_49995e7b0f1641cbb19a7cc398507ede",
            "placeholder": "​",
            "style": "IPY_MODEL_e081c84d92624d988f915064af574e0c",
            "value": "Downloading pytorch_model.bin: 100%"
          }
        },
        "1d8391fa84304be797efcff9a7d74d02": {
          "model_module": "@jupyter-widgets/controls",
          "model_name": "FloatProgressModel",
          "model_module_version": "1.5.0",
          "state": {
            "_dom_classes": [],
            "_model_module": "@jupyter-widgets/controls",
            "_model_module_version": "1.5.0",
            "_model_name": "FloatProgressModel",
            "_view_count": null,
            "_view_module": "@jupyter-widgets/controls",
            "_view_module_version": "1.5.0",
            "_view_name": "ProgressView",
            "bar_style": "success",
            "description": "",
            "description_tooltip": null,
            "layout": "IPY_MODEL_48ec204c9cf64ef0a116e09073c2ba94",
            "max": 440473133,
            "min": 0,
            "orientation": "horizontal",
            "style": "IPY_MODEL_6a75089cd4f04ecaa0c993ad61cc59b0",
            "value": 440473133
          }
        },
        "a86992267df04f01bd8b5fc10ec7161a": {
          "model_module": "@jupyter-widgets/controls",
          "model_name": "HTMLModel",
          "model_module_version": "1.5.0",
          "state": {
            "_dom_classes": [],
            "_model_module": "@jupyter-widgets/controls",
            "_model_module_version": "1.5.0",
            "_model_name": "HTMLModel",
            "_view_count": null,
            "_view_module": "@jupyter-widgets/controls",
            "_view_module_version": "1.5.0",
            "_view_name": "HTMLView",
            "description": "",
            "description_tooltip": null,
            "layout": "IPY_MODEL_93796fa52053435b926450d027869f6b",
            "placeholder": "​",
            "style": "IPY_MODEL_f78e666914f142449960fd98112aeff2",
            "value": " 440M/440M [00:02&lt;00:00, 157MB/s]"
          }
        },
        "f30638d14c114606aaf6f738e8044b0a": {
          "model_module": "@jupyter-widgets/base",
          "model_name": "LayoutModel",
          "model_module_version": "1.2.0",
          "state": {
            "_model_module": "@jupyter-widgets/base",
            "_model_module_version": "1.2.0",
            "_model_name": "LayoutModel",
            "_view_count": null,
            "_view_module": "@jupyter-widgets/base",
            "_view_module_version": "1.2.0",
            "_view_name": "LayoutView",
            "align_content": null,
            "align_items": null,
            "align_self": null,
            "border": null,
            "bottom": null,
            "display": null,
            "flex": null,
            "flex_flow": null,
            "grid_area": null,
            "grid_auto_columns": null,
            "grid_auto_flow": null,
            "grid_auto_rows": null,
            "grid_column": null,
            "grid_gap": null,
            "grid_row": null,
            "grid_template_areas": null,
            "grid_template_columns": null,
            "grid_template_rows": null,
            "height": null,
            "justify_content": null,
            "justify_items": null,
            "left": null,
            "margin": null,
            "max_height": null,
            "max_width": null,
            "min_height": null,
            "min_width": null,
            "object_fit": null,
            "object_position": null,
            "order": null,
            "overflow": null,
            "overflow_x": null,
            "overflow_y": null,
            "padding": null,
            "right": null,
            "top": null,
            "visibility": null,
            "width": null
          }
        },
        "49995e7b0f1641cbb19a7cc398507ede": {
          "model_module": "@jupyter-widgets/base",
          "model_name": "LayoutModel",
          "model_module_version": "1.2.0",
          "state": {
            "_model_module": "@jupyter-widgets/base",
            "_model_module_version": "1.2.0",
            "_model_name": "LayoutModel",
            "_view_count": null,
            "_view_module": "@jupyter-widgets/base",
            "_view_module_version": "1.2.0",
            "_view_name": "LayoutView",
            "align_content": null,
            "align_items": null,
            "align_self": null,
            "border": null,
            "bottom": null,
            "display": null,
            "flex": null,
            "flex_flow": null,
            "grid_area": null,
            "grid_auto_columns": null,
            "grid_auto_flow": null,
            "grid_auto_rows": null,
            "grid_column": null,
            "grid_gap": null,
            "grid_row": null,
            "grid_template_areas": null,
            "grid_template_columns": null,
            "grid_template_rows": null,
            "height": null,
            "justify_content": null,
            "justify_items": null,
            "left": null,
            "margin": null,
            "max_height": null,
            "max_width": null,
            "min_height": null,
            "min_width": null,
            "object_fit": null,
            "object_position": null,
            "order": null,
            "overflow": null,
            "overflow_x": null,
            "overflow_y": null,
            "padding": null,
            "right": null,
            "top": null,
            "visibility": null,
            "width": null
          }
        },
        "e081c84d92624d988f915064af574e0c": {
          "model_module": "@jupyter-widgets/controls",
          "model_name": "DescriptionStyleModel",
          "model_module_version": "1.5.0",
          "state": {
            "_model_module": "@jupyter-widgets/controls",
            "_model_module_version": "1.5.0",
            "_model_name": "DescriptionStyleModel",
            "_view_count": null,
            "_view_module": "@jupyter-widgets/base",
            "_view_module_version": "1.2.0",
            "_view_name": "StyleView",
            "description_width": ""
          }
        },
        "48ec204c9cf64ef0a116e09073c2ba94": {
          "model_module": "@jupyter-widgets/base",
          "model_name": "LayoutModel",
          "model_module_version": "1.2.0",
          "state": {
            "_model_module": "@jupyter-widgets/base",
            "_model_module_version": "1.2.0",
            "_model_name": "LayoutModel",
            "_view_count": null,
            "_view_module": "@jupyter-widgets/base",
            "_view_module_version": "1.2.0",
            "_view_name": "LayoutView",
            "align_content": null,
            "align_items": null,
            "align_self": null,
            "border": null,
            "bottom": null,
            "display": null,
            "flex": null,
            "flex_flow": null,
            "grid_area": null,
            "grid_auto_columns": null,
            "grid_auto_flow": null,
            "grid_auto_rows": null,
            "grid_column": null,
            "grid_gap": null,
            "grid_row": null,
            "grid_template_areas": null,
            "grid_template_columns": null,
            "grid_template_rows": null,
            "height": null,
            "justify_content": null,
            "justify_items": null,
            "left": null,
            "margin": null,
            "max_height": null,
            "max_width": null,
            "min_height": null,
            "min_width": null,
            "object_fit": null,
            "object_position": null,
            "order": null,
            "overflow": null,
            "overflow_x": null,
            "overflow_y": null,
            "padding": null,
            "right": null,
            "top": null,
            "visibility": null,
            "width": null
          }
        },
        "6a75089cd4f04ecaa0c993ad61cc59b0": {
          "model_module": "@jupyter-widgets/controls",
          "model_name": "ProgressStyleModel",
          "model_module_version": "1.5.0",
          "state": {
            "_model_module": "@jupyter-widgets/controls",
            "_model_module_version": "1.5.0",
            "_model_name": "ProgressStyleModel",
            "_view_count": null,
            "_view_module": "@jupyter-widgets/base",
            "_view_module_version": "1.2.0",
            "_view_name": "StyleView",
            "bar_color": null,
            "description_width": ""
          }
        },
        "93796fa52053435b926450d027869f6b": {
          "model_module": "@jupyter-widgets/base",
          "model_name": "LayoutModel",
          "model_module_version": "1.2.0",
          "state": {
            "_model_module": "@jupyter-widgets/base",
            "_model_module_version": "1.2.0",
            "_model_name": "LayoutModel",
            "_view_count": null,
            "_view_module": "@jupyter-widgets/base",
            "_view_module_version": "1.2.0",
            "_view_name": "LayoutView",
            "align_content": null,
            "align_items": null,
            "align_self": null,
            "border": null,
            "bottom": null,
            "display": null,
            "flex": null,
            "flex_flow": null,
            "grid_area": null,
            "grid_auto_columns": null,
            "grid_auto_flow": null,
            "grid_auto_rows": null,
            "grid_column": null,
            "grid_gap": null,
            "grid_row": null,
            "grid_template_areas": null,
            "grid_template_columns": null,
            "grid_template_rows": null,
            "height": null,
            "justify_content": null,
            "justify_items": null,
            "left": null,
            "margin": null,
            "max_height": null,
            "max_width": null,
            "min_height": null,
            "min_width": null,
            "object_fit": null,
            "object_position": null,
            "order": null,
            "overflow": null,
            "overflow_x": null,
            "overflow_y": null,
            "padding": null,
            "right": null,
            "top": null,
            "visibility": null,
            "width": null
          }
        },
        "f78e666914f142449960fd98112aeff2": {
          "model_module": "@jupyter-widgets/controls",
          "model_name": "DescriptionStyleModel",
          "model_module_version": "1.5.0",
          "state": {
            "_model_module": "@jupyter-widgets/controls",
            "_model_module_version": "1.5.0",
            "_model_name": "DescriptionStyleModel",
            "_view_count": null,
            "_view_module": "@jupyter-widgets/base",
            "_view_module_version": "1.2.0",
            "_view_name": "StyleView",
            "description_width": ""
          }
        }
      }
    },
    "accelerator": "GPU"
  },
  "nbformat": 4,
  "nbformat_minor": 0
}